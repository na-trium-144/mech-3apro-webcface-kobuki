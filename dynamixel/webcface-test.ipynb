{
 "cells": [
  {
   "cell_type": "code",
   "execution_count": 1,
   "id": "401d3132-43ec-42f9-9c83-9b08e192a451",
   "metadata": {},
   "outputs": [],
   "source": [
    "import webcface"
   ]
  },
  {
   "cell_type": "code",
   "execution_count": 2,
   "id": "9d4707d3-7279-424c-9168-0c35e91aaae7",
   "metadata": {},
   "outputs": [],
   "source": [
    "wcli = webcface.Client(\"jupyter-test\")"
   ]
  },
  {
   "cell_type": "code",
   "execution_count": 3,
   "id": "8f0b7639-8fc6-40a6-8731-64f0c6d79c3f",
   "metadata": {},
   "outputs": [],
   "source": [
    "wcli.start()"
   ]
  },
  {
   "cell_type": "code",
   "execution_count": 4,
   "id": "e4589106-94d7-4f27-99d1-9875e3451912",
   "metadata": {},
   "outputs": [],
   "source": [
    "from webcface.view_components import button\n",
    "servo_diff = 0.02\n",
    "with wcli.view(\"control\") as v:\n",
    "    v.add(\"kobuki　　　　dynamixel\\n\")\n",
    "    v.add(\"　　\")\n",
    "    v.add(button(\"↑\", lambda:wcli.member(\"kobuki\").func(\"baseControl\").run(0.1, 0)))\n",
    "    v.add(\"　　　　\")\n",
    "    v.add(button(\"↑\", lambda:wcli.member(\"matlab-test\").func(\"setDestDiff\").run(0, 0, servo_diff)))\n",
    "    v.add(\"　　\")\n",
    "    v.add(button(\"x↑\", lambda:wcli.member(\"matlab-test\").func(\"setDestDiff\").run(servo_diff, 0, 0)))\n",
    "    v.add(\"\\n\")\n",
    "    v.add(button(\"←\", lambda:wcli.member(\"kobuki\").func(\"baseControl\").run(0, 0.1)))\n",
    "    v.add(button(\"×\", lambda:wcli.member(\"kobuki\").func(\"baseControl\").run(0, 0)))\n",
    "    v.add(button(\"→\", lambda:wcli.member(\"kobuki\").func(\"baseControl\").run(0, -0.1)))\n",
    "    v.add(\" \")\n",
    "    v.add(button(\"←\", lambda:wcli.member(\"matlab-test\").func(\"setDestDiff\").run(0, servo_diff, 0)))\n",
    "    v.add(\"　\")\n",
    "    v.add(button(\"→\", lambda:wcli.member(\"matlab-test\").func(\"setDestDiff\").run(0, -servo_diff, 0)))\n",
    "    v.add(\"\\n\")\n",
    "    v.add(\"　　\")\n",
    "    v.add(button(\"↓\", lambda:wcli.member(\"kobuki\").func(\"baseControl\").run(-0.1, 0)))\n",
    "    v.add(\"　　　　\")\n",
    "    v.add(button(\"↓\", lambda:wcli.member(\"matlab-test\").func(\"setDestDiff\").run(0, 0, -servo_diff)))\n",
    "    v.add(\"　　\")\n",
    "    v.add(button(\"x↓\", lambda:wcli.member(\"matlab-test\").func(\"setDestDiff\").run(-servo_diff, 0, 0)))\n",
    "    v.add(\"\\n\")\n",
    "wcli.sync()"
   ]
  },
  {
   "cell_type": "code",
   "execution_count": 4,
   "id": "8711fb68-9e5c-4564-9f2f-c690bdaf6ff5",
   "metadata": {},
   "outputs": [],
   "source": [
    "wcli.value(\"hoge\").set(3)\n",
    "wcli.sync()"
   ]
  },
  {
   "cell_type": "code",
   "execution_count": 5,
   "id": "522e8771-66a8-40b7-9db3-ad3cf088822e",
   "metadata": {},
   "outputs": [],
   "source": [
    "wcli.value(\"multi\").set([1, 2, 100])\n",
    "wcli.sync()"
   ]
  },
  {
   "cell_type": "code",
   "execution_count": 6,
   "id": "f8e3274f-2db4-450e-bd93-7583aa6bed10",
   "metadata": {},
   "outputs": [
    {
     "data": {
      "text/plain": [
       "[]"
      ]
     },
     "execution_count": 6,
     "metadata": {},
     "output_type": "execute_result"
    }
   ],
   "source": [
    "wcli.member(\"matlab-test\").value(\"hoge\").get_vec()"
   ]
  },
  {
   "cell_type": "code",
   "execution_count": 7,
   "id": "96951e4a-4bd6-4c35-b049-e66e7f50e054",
   "metadata": {},
   "outputs": [],
   "source": [
    "import time\n",
    "@wcli.func()\n",
    "def hogehoge():\n",
    "    time.sleep(5)\n",
    "    print(\"hogehoge\")"
   ]
  },
  {
   "cell_type": "code",
   "execution_count": 15,
   "id": "087e7232-4371-4125-9ebf-4ef24d207090",
   "metadata": {},
   "outputs": [],
   "source": [
    "res = wcli.member(\"test\").func(\"lis\").run_async(3, 5)"
   ]
  },
  {
   "cell_type": "code",
   "execution_count": 16,
   "id": "fd850d97-0eb9-4953-9052-887268320520",
   "metadata": {},
   "outputs": [
    {
     "ename": "RuntimeError",
     "evalue": "member(\"test\") Disconnected",
     "output_type": "error",
     "traceback": [
      "\u001b[0;31m---------------------------------------------------------------------------\u001b[0m",
      "\u001b[0;31mRuntimeError\u001b[0m                              Traceback (most recent call last)",
      "Cell \u001b[0;32mIn[16], line 1\u001b[0m\n\u001b[0;32m----> 1\u001b[0m \u001b[43mres\u001b[49m\u001b[38;5;241;43m.\u001b[39;49m\u001b[43mresult\u001b[49m\n",
      "File \u001b[0;32m~/projects/mech-jishupro/dynamixel/.venv/lib/python3.10/site-packages/webcface/func_info.py:254\u001b[0m, in \u001b[0;36mAsyncFuncResult.result\u001b[0;34m(self)\u001b[0m\n\u001b[1;32m    252\u001b[0m     \u001b[38;5;28;01mraise\u001b[39;00m FuncNotFoundError(\u001b[38;5;28mself\u001b[39m\u001b[38;5;241m.\u001b[39m_base)\n\u001b[1;32m    253\u001b[0m \u001b[38;5;28;01mif\u001b[39;00m \u001b[38;5;28mself\u001b[39m\u001b[38;5;241m.\u001b[39m_result_is_error:\n\u001b[0;32m--> 254\u001b[0m     \u001b[38;5;28;01mraise\u001b[39;00m \u001b[38;5;167;01mRuntimeError\u001b[39;00m(\u001b[38;5;28mself\u001b[39m\u001b[38;5;241m.\u001b[39m_result)\n\u001b[1;32m    255\u001b[0m \u001b[38;5;28;01mreturn\u001b[39;00m \u001b[38;5;28mself\u001b[39m\u001b[38;5;241m.\u001b[39m_result\n",
      "\u001b[0;31mRuntimeError\u001b[0m: member(\"test\") Disconnected"
     ]
    }
   ],
   "source": [
    "res.result"
   ]
  },
  {
   "cell_type": "code",
   "execution_count": 12,
   "id": "5d6fde67-869f-487d-8285-fcfa87ee13eb",
   "metadata": {},
   "outputs": [
    {
     "data": {
      "application/vnd.jupyter.widget-view+json": {
       "model_id": "87c005c5064747fe9fa033271cd300cf",
       "version_major": 2,
       "version_minor": 0
      },
      "text/plain": [
       "interactive(children=(IntSlider(value=0, description='x', max=10, min=-10), IntSlider(value=0, description='a'…"
      ]
     },
     "metadata": {},
     "output_type": "display_data"
    },
    {
     "data": {
      "text/plain": [
       "<function __main__.f(x, a, b)>"
      ]
     },
     "execution_count": 12,
     "metadata": {},
     "output_type": "execute_result"
    }
   ],
   "source": [
    "def f(x, a, b):\n",
    "    return a * x + b\n",
    "from ipywidgets import interact\n",
    "interact(f, x=(-10,10, 1), a=(-10,10, 1), b=(-10,10, 1))"
   ]
  },
  {
   "cell_type": "code",
   "execution_count": 9,
   "id": "fc2b3d24-c829-4e5f-957d-04e644367006",
   "metadata": {},
   "outputs": [
    {
     "data": {
      "application/vnd.jupyter.widget-view+json": {
       "model_id": "76c63819b4e942b3980b05fc4b4eddc2",
       "version_major": 2,
       "version_minor": 0
      },
      "text/plain": [
       "interactive(children=(IntSlider(value=0, description='val', min=-100), Output()), _dom_classes=('widget-intera…"
      ]
     },
     "metadata": {},
     "output_type": "display_data"
    },
    {
     "data": {
      "text/plain": [
       "<function __main__.hoge(val)>"
      ]
     },
     "execution_count": 9,
     "metadata": {},
     "output_type": "execute_result"
    }
   ],
   "source": [
    "def hoge(val):\n",
    "    wcli.value(\"hoge\").set(val);\n",
    "    wcli.sync()\n",
    "interact(hoge, val=(-100, 100, 1))"
   ]
  }
 ],
 "metadata": {
  "kernelspec": {
   "display_name": "Python 3 (ipykernel)",
   "language": "python",
   "name": "python3"
  },
  "language_info": {
   "codemirror_mode": {
    "name": "ipython",
    "version": 3
   },
   "file_extension": ".py",
   "mimetype": "text/x-python",
   "name": "python",
   "nbconvert_exporter": "python",
   "pygments_lexer": "ipython3",
   "version": "3.8.10"
  }
 },
 "nbformat": 4,
 "nbformat_minor": 5
}
