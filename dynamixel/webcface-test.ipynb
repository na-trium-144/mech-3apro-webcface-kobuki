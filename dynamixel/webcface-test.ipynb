{
 "cells": [
  {
   "cell_type": "code",
   "execution_count": 24,
   "id": "401d3132-43ec-42f9-9c83-9b08e192a451",
   "metadata": {},
   "outputs": [],
   "source": [
    "import webcface"
   ]
  },
  {
   "cell_type": "code",
   "execution_count": 34,
   "id": "9d4707d3-7279-424c-9168-0c35e91aaae7",
   "metadata": {},
   "outputs": [],
   "source": [
    "wcli = webcface.Client(\"jupyter-test\")"
   ]
  },
  {
   "cell_type": "code",
   "execution_count": 35,
   "id": "8f0b7639-8fc6-40a6-8731-64f0c6d79c3f",
   "metadata": {},
   "outputs": [],
   "source": [
    "wcli.start()"
   ]
  },
  {
   "cell_type": "code",
   "execution_count": 36,
   "id": "8711fb68-9e5c-4564-9f2f-c690bdaf6ff5",
   "metadata": {},
   "outputs": [],
   "source": [
    "wcli.value(\"hoge\").set(3)\n",
    "wcli.sync()"
   ]
  },
  {
   "cell_type": "code",
   "execution_count": 40,
   "id": "522e8771-66a8-40b7-9db3-ad3cf088822e",
   "metadata": {},
   "outputs": [],
   "source": [
    "wcli.value(\"multi\").set([1, 2, 100])\n",
    "wcli.sync()"
   ]
  },
  {
   "cell_type": "code",
   "execution_count": 45,
   "id": "f8e3274f-2db4-450e-bd93-7583aa6bed10",
   "metadata": {},
   "outputs": [
    {
     "data": {
      "text/plain": [
       "[1, 2, 3]"
      ]
     },
     "execution_count": 45,
     "metadata": {},
     "output_type": "execute_result"
    }
   ],
   "source": [
    "wcli.member(\"matlab-test\").value(\"aaaa\").get_vec()"
   ]
  },
  {
   "cell_type": "code",
   "execution_count": 29,
   "id": "38aed522-5365-47a9-865f-95c3de6fa940",
   "metadata": {},
   "outputs": [],
   "source": [
    "wcli.close()"
   ]
  },
  {
   "cell_type": "code",
   "execution_count": 5,
   "id": "96951e4a-4bd6-4c35-b049-e66e7f50e054",
   "metadata": {},
   "outputs": [],
   "source": [
    "import time\n",
    "@wcli.func()\n",
    "def hogehoge():\n",
    "    time.sleep(5)\n",
    "    print(\"hogehoge\")"
   ]
  },
  {
   "cell_type": "code",
   "execution_count": 12,
   "id": "5d6fde67-869f-487d-8285-fcfa87ee13eb",
   "metadata": {},
   "outputs": [
    {
     "data": {
      "application/vnd.jupyter.widget-view+json": {
       "model_id": "87c005c5064747fe9fa033271cd300cf",
       "version_major": 2,
       "version_minor": 0
      },
      "text/plain": [
       "interactive(children=(IntSlider(value=0, description='x', max=10, min=-10), IntSlider(value=0, description='a'…"
      ]
     },
     "metadata": {},
     "output_type": "display_data"
    },
    {
     "data": {
      "text/plain": [
       "<function __main__.f(x, a, b)>"
      ]
     },
     "execution_count": 12,
     "metadata": {},
     "output_type": "execute_result"
    }
   ],
   "source": [
    "def f(x, a, b):\n",
    "    return a * x + b\n",
    "from ipywidgets import interact\n",
    "interact(f, x=(-10,10, 1), a=(-10,10, 1), b=(-10,10, 1))"
   ]
  },
  {
   "cell_type": "code",
   "execution_count": 9,
   "id": "fc2b3d24-c829-4e5f-957d-04e644367006",
   "metadata": {},
   "outputs": [
    {
     "data": {
      "application/vnd.jupyter.widget-view+json": {
       "model_id": "76c63819b4e942b3980b05fc4b4eddc2",
       "version_major": 2,
       "version_minor": 0
      },
      "text/plain": [
       "interactive(children=(IntSlider(value=0, description='val', min=-100), Output()), _dom_classes=('widget-intera…"
      ]
     },
     "metadata": {},
     "output_type": "display_data"
    },
    {
     "data": {
      "text/plain": [
       "<function __main__.hoge(val)>"
      ]
     },
     "execution_count": 9,
     "metadata": {},
     "output_type": "execute_result"
    }
   ],
   "source": [
    "def hoge(val):\n",
    "    wcli.value(\"hoge\").set(val);\n",
    "    wcli.sync()\n",
    "interact(hoge, val=(-100, 100, 1))"
   ]
  }
 ],
 "metadata": {
  "kernelspec": {
   "display_name": "Python 3 (ipykernel)",
   "language": "python",
   "name": "python3"
  },
  "language_info": {
   "codemirror_mode": {
    "name": "ipython",
    "version": 3
   },
   "file_extension": ".py",
   "mimetype": "text/x-python",
   "name": "python",
   "nbconvert_exporter": "python",
   "pygments_lexer": "ipython3",
   "version": "3.8.10"
  }
 },
 "nbformat": 4,
 "nbformat_minor": 5
}
