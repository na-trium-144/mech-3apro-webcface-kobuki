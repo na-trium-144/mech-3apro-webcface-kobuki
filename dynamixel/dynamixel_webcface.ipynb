{
 "cells": [
  {
   "cell_type": "code",
   "execution_count": 1,
   "id": "477e221b-0b8c-4587-ad3d-9b9a6f8ce9f3",
   "metadata": {},
   "outputs": [],
   "source": [
    "from dynamixel_driver.dynamixel_io import DynamixelIO\n",
    "import webcface\n",
    "import time\n",
    "import threading"
   ]
  },
  {
   "cell_type": "code",
   "execution_count": 2,
   "id": "6cbab3ef-e3f2-4aea-ba2f-e3ff9b51a1b6",
   "metadata": {},
   "outputs": [],
   "source": [
    "io = DynamixelIO(\"COM6\", 1000000)"
   ]
  },
  {
   "cell_type": "code",
   "execution_count": 3,
   "id": "d161b81e-940a-4302-8486-eef4fbe47179",
   "metadata": {},
   "outputs": [],
   "source": [
    "wcli = webcface.Client(\"dynamixel\")\n",
    "wcli.start()"
   ]
  },
  {
   "cell_type": "code",
   "execution_count": 4,
   "id": "8ea20a86-68e9-48c6-b162-1428e8580cc2",
   "metadata": {},
   "outputs": [],
   "source": [
    "enable_update_pos = True\n",
    "def update_pos():\n",
    "    while enable_update_pos:\n",
    "        for i in range(1, 8):\n",
    "            wcli.value(f\"servo/{i}\").set(io.get_position(i))\n",
    "        wcli.sync()\n",
    "        time.sleep(0.1)\n",
    "threading.Thread(target=update_pos, daemon=True).start()"
   ]
  },
  {
   "cell_type": "code",
   "execution_count": 5,
   "id": "fa65f819-2dd0-44d0-b4fc-849e42ab20fa",
   "metadata": {},
   "outputs": [],
   "source": [
    "# enable_update_pos = False"
   ]
  },
  {
   "cell_type": "code",
   "execution_count": 6,
   "id": "af1ba48c-1d8d-4e99-ab35-b5a44068213a",
   "metadata": {},
   "outputs": [],
   "source": [
    "@wcli.func(args=[webcface.Arg(min=300, max=700, init=500)])\n",
    "def move_servo(angle1: int, angle2: int, angle3: int, angle4: int, angle5: int, angle6: int, angle7: int):\n",
    "    io.set_position_and_speed(1, angle1, int(1023*0.111*1))\n",
    "    io.set_position_and_speed(2, angle2, int(1023*0.111*1))\n",
    "    io.set_position_and_speed(3, angle3, int(1023*0.111*1))\n",
    "    io.set_position_and_speed(4, angle4, int(1023*0.111*1))\n",
    "    io.set_position_and_speed(5, angle5, int(1023*0.111*1))\n",
    "    io.set_position_and_speed(6, angle6, int(1023*0.111*1))\n",
    "    io.set_position_and_speed(7, angle7, int(1023*0.111*1))"
   ]
  },
  {
   "cell_type": "code",
   "execution_count": 7,
   "id": "4131c514-bbcf-47b6-ac58-f55e51ac0a82",
   "metadata": {},
   "outputs": [
    {
     "name": "stderr",
     "output_type": "stream",
     "text": [
      "Exception in thread Thread-7:\n",
      "Traceback (most recent call last):\n",
      "  File \"C:\\Python38\\lib\\threading.py\", line 932, in _bootstrap_inner\n",
      "    self.run()\n",
      "  File \"C:\\Python38\\lib\\threading.py\", line 870, in run\n",
      "    self._target(*self._args, **self._kwargs)\n",
      "  File \"C:\\msys64\\tmp\\ipykernel_12532\\689368411.py\", line 5, in update_pos\n",
      "  File \"C:\\Users\\mech-user\\3a_pro\\dynamixel\\dynamixel_driver\\dynamixel_io.py\", line 875, in get_position\n",
      "    response = self.read(servo_id, DXL_PRESENT_POSITION_L, 2)\n",
      "  File \"C:\\Users\\mech-user\\3a_pro\\dynamixel\\dynamixel_driver\\dynamixel_io.py\", line 138, in read\n",
      "    data = self.__read_response(servo_id)\n",
      "  File \"C:\\Users\\mech-user\\3a_pro\\dynamixel\\dynamixel_driver\\dynamixel_io.py\", line 105, in __read_response\n",
      "    if not checksum == data[-1]: raise ChecksumError(servo_id, data, checksum)\n",
      "dynamixel_driver.dynamixel_io.ChecksumError: Checksum received from motor 7 does not match the expected one (96 != 32)\n"
     ]
    }
   ],
   "source": [
    "@wcli.func()\n",
    "def free_servo():\n",
    "    io.set_torque_enabled(1, 0)\n",
    "    io.set_torque_enabled(2, 0)\n",
    "    io.set_torque_enabled(3, 0)\n",
    "    io.set_torque_enabled(4, 0)\n",
    "    io.set_torque_enabled(5, 0)\n",
    "    io.set_torque_enabled(6, 0)\n",
    "    io.set_torque_enabled(7, 0)"
   ]
  },
  {
   "cell_type": "code",
   "execution_count": 8,
   "id": "26964a86-07d5-46d7-bf6c-918b7e18b486",
   "metadata": {},
   "outputs": [],
   "source": [
    "free_servo()"
   ]
  }
 ],
 "metadata": {
  "kernelspec": {
   "display_name": "Python 3 (ipykernel)",
   "language": "python",
   "name": "python3"
  },
  "language_info": {
   "codemirror_mode": {
    "name": "ipython",
    "version": 3
   },
   "file_extension": ".py",
   "mimetype": "text/x-python",
   "name": "python",
   "nbconvert_exporter": "python",
   "pygments_lexer": "ipython3",
   "version": "3.8.10"
  }
 },
 "nbformat": 4,
 "nbformat_minor": 5
}
