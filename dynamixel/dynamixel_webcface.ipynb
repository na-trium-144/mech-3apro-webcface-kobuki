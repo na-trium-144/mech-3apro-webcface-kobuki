{
 "cells": [
  {
   "cell_type": "code",
   "execution_count": 1,
   "id": "477e221b-0b8c-4587-ad3d-9b9a6f8ce9f3",
   "metadata": {},
   "outputs": [],
   "source": [
    "from dynamixel_driver.dynamixel_io import DynamixelIO\n",
    "import webcface\n",
    "import time\n",
    "import threading"
   ]
  },
  {
   "cell_type": "code",
   "execution_count": 2,
   "id": "6cbab3ef-e3f2-4aea-ba2f-e3ff9b51a1b6",
   "metadata": {},
   "outputs": [],
   "source": [
    "io = DynamixelIO(\"COM6\", 1000000)"
   ]
  },
  {
   "cell_type": "code",
   "execution_count": 3,
   "id": "d161b81e-940a-4302-8486-eef4fbe47179",
   "metadata": {},
   "outputs": [],
   "source": [
    "wcli = webcface.Client(\"dynamixel\")\n",
    "wcli.start()"
   ]
  },
  {
   "cell_type": "code",
   "execution_count": 8,
   "id": "8ea20a86-68e9-48c6-b162-1428e8580cc2",
   "metadata": {},
   "outputs": [],
   "source": [
    "enable_update_pos = True\n",
    "def update_pos():\n",
    "    while enable_update_pos:\n",
    "        for i in range(1, 8):\n",
    "            wcli.value(f\"servo/{i}\").set(io.get_position(i))\n",
    "        wcli.sync()\n",
    "        time.sleep(0.1)\n",
    "threading.Thread(target=update_pos, daemon=True).start()"
   ]
  },
  {
   "cell_type": "code",
   "execution_count": 9,
   "id": "fa65f819-2dd0-44d0-b4fc-849e42ab20fa",
   "metadata": {},
   "outputs": [],
   "source": [
    "# enable_update_pos = False"
   ]
  },
  {
   "cell_type": "code",
   "execution_count": 10,
   "id": "af1ba48c-1d8d-4e99-ab35-b5a44068213a",
   "metadata": {},
   "outputs": [],
   "source": [
    "@wcli.func(args=[webcface.Arg(min=300, max=700, init=500)])\n",
    "def move_servo1(angle: int):\n",
    "    io.set_position_and_speed(1, angle, int(1023*0.111*1))"
   ]
  },
  {
   "cell_type": "code",
   "execution_count": 11,
   "id": "4131c514-bbcf-47b6-ac58-f55e51ac0a82",
   "metadata": {},
   "outputs": [],
   "source": [
    "@wcli.func()\n",
    "def free_servo1():\n",
    "    io.set_torque_enabled(1, 0)"
   ]
  }
 ],
 "metadata": {
  "kernelspec": {
   "display_name": "Python 3 (ipykernel)",
   "language": "python",
   "name": "python3"
  },
  "language_info": {
   "codemirror_mode": {
    "name": "ipython",
    "version": 3
   },
   "file_extension": ".py",
   "mimetype": "text/x-python",
   "name": "python",
   "nbconvert_exporter": "python",
   "pygments_lexer": "ipython3",
   "version": "3.8.10"
  }
 },
 "nbformat": 4,
 "nbformat_minor": 5
}
