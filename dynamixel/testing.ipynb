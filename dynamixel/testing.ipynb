{
 "cells": [
  {
   "cell_type": "code",
   "execution_count": 13,
   "id": "4ab45c20-ec0f-4441-8c03-9d3d5ce3b91c",
   "metadata": {},
   "outputs": [],
   "source": [
    "from dynamixel_driver.dynamixel_io import DynamixelIO\n",
    "import time"
   ]
  },
  {
   "cell_type": "code",
   "execution_count": 14,
   "id": "3787ab8d-047f-4d6c-a369-7e31ae1c30be",
   "metadata": {},
   "outputs": [],
   "source": [
    "io = DynamixelIO(\"COM6\", 1000000)\n",
    "# DynamixelWizard起動中は アクセスが拒否されました となる\n",
    "# 2回実行すると同様"
   ]
  },
  {
   "cell_type": "code",
   "execution_count": 15,
   "id": "cdd7c1cc-26bb-4d72-a3c8-9fd30c3df6c1",
   "metadata": {},
   "outputs": [
    {
     "data": {
      "text/plain": [
       "[255, 255, 1, 2, 0, 252, 1701675915.4445841]"
      ]
     },
     "execution_count": 15,
     "metadata": {},
     "output_type": "execute_result"
    }
   ],
   "source": [
    "io.ping(1)"
   ]
  },
  {
   "cell_type": "code",
   "execution_count": 4,
   "id": "97ae60bf-6be4-4395-8e36-989ce7351a76",
   "metadata": {},
   "outputs": [
    {
     "data": {
      "text/plain": [
       "493"
      ]
     },
     "execution_count": 4,
     "metadata": {},
     "output_type": "execute_result"
    }
   ],
   "source": [
    "io.get_position(1)"
   ]
  },
  {
   "cell_type": "code",
   "execution_count": 9,
   "id": "c076d553-592e-44c8-ae40-af6ddf32d17c",
   "metadata": {},
   "outputs": [
    {
     "data": {
      "text/plain": [
       "[255, 255, 1, 2, 0, 252, 1701673326.4131973]"
      ]
     },
     "execution_count": 9,
     "metadata": {},
     "output_type": "execute_result"
    }
   ],
   "source": [
    "io.set_position_and_speed(1, 700, int(1023*0.111*2))\n",
    "time.sleep(1)\n",
    "io.set_position_and_speed(1, 500, int(1023*0.111*2))"
   ]
  },
  {
   "cell_type": "code",
   "execution_count": 43,
   "id": "2d4d7947-e958-4a74-b94b-445134fa4939",
   "metadata": {},
   "outputs": [
    {
     "data": {
      "text/plain": [
       "[255, 255, 1, 2, 8, 244, 1701673024.3889778]"
      ]
     },
     "execution_count": 43,
     "metadata": {},
     "output_type": "execute_result"
    }
   ],
   "source": [
    "# 関係なさそう\n",
    "io.set_compliance_slopes(1, 0, 0)"
   ]
  },
  {
   "cell_type": "code",
   "execution_count": 45,
   "id": "e2ef84ed-576e-42c3-82e1-e37f3dd3af3f",
   "metadata": {},
   "outputs": [
    {
     "data": {
      "text/plain": [
       "[255, 255, 1, 2, 0, 252, 1701673030.5792668]"
      ]
     },
     "execution_count": 45,
     "metadata": {},
     "output_type": "execute_result"
    }
   ],
   "source": [
    "io.set_compliance_margins(1, 3, 3)"
   ]
  },
  {
   "cell_type": "code",
   "execution_count": 52,
   "id": "f1607e50-2082-4633-b495-ee52c700c9a7",
   "metadata": {},
   "outputs": [
    {
     "data": {
      "text/plain": [
       "[255, 255, 1, 2, 0, 252, 1701673093.499103]"
      ]
     },
     "execution_count": 52,
     "metadata": {},
     "output_type": "execute_result"
    }
   ],
   "source": [
    "# 見た目何も変わってない\n",
    "io.set_punch(1, 32)"
   ]
  },
  {
   "cell_type": "code",
   "execution_count": 67,
   "id": "a85dbd4f-0ed9-4d87-9f35-65f932d42332",
   "metadata": {},
   "outputs": [
    {
     "data": {
      "text/plain": [
       "[255, 255, 1, 2, 0, 252, 1701673220.9480863]"
      ]
     },
     "execution_count": 67,
     "metadata": {},
     "output_type": "execute_result"
    }
   ],
   "source": [
    "io.set_p_gain(1, 1)\n",
    "io.set_i_gain(1, 0)\n",
    "io.set_d_gain(1, 30)"
   ]
  },
  {
   "cell_type": "code",
   "execution_count": 54,
   "id": "ae7829a9-8bab-4d76-a686-bd63293ab3ba",
   "metadata": {},
   "outputs": [
    {
     "ename": "UnsupportedFeatureError",
     "evalue": "Feature 73 not supported by model 12 (AX-12)",
     "output_type": "error",
     "traceback": [
      "\u001b[1;31m---------------------------------------------------------------------------\u001b[0m",
      "\u001b[1;31mUnsupportedFeatureError\u001b[0m                   Traceback (most recent call last)",
      "Cell \u001b[1;32mIn[54], line 1\u001b[0m\n\u001b[1;32m----> 1\u001b[0m \u001b[43mio\u001b[49m\u001b[38;5;241;43m.\u001b[39;49m\u001b[43mset_acceleration\u001b[49m\u001b[43m(\u001b[49m\u001b[38;5;241;43m1\u001b[39;49m\u001b[43m,\u001b[49m\u001b[43m \u001b[49m\u001b[38;5;241;43m0\u001b[39;49m\u001b[43m)\u001b[49m\n",
      "File \u001b[1;32m~\\3a_pro\\dynamixel\\dynamixel_driver\\dynamixel_io.py:522\u001b[0m, in \u001b[0;36mDynamixelIO.set_acceleration\u001b[1;34m(self, servo_id, acceleration)\u001b[0m\n\u001b[0;32m    520\u001b[0m     \u001b[38;5;28;01mreturn\u001b[39;00m response\n\u001b[0;32m    521\u001b[0m \u001b[38;5;28;01melse\u001b[39;00m:\n\u001b[1;32m--> 522\u001b[0m     \u001b[38;5;28;01mraise\u001b[39;00m UnsupportedFeatureError(model, DXL_GOAL_ACCELERATION)\n",
      "\u001b[1;31mUnsupportedFeatureError\u001b[0m: Feature 73 not supported by model 12 (AX-12)"
     ]
    }
   ],
   "source": [
    "# io.set_acceleration(1, 0)\n",
    "# UnsupportedFeatureError: Feature 73 not supported by model 12 (AX-12)"
   ]
  },
  {
   "cell_type": "code",
   "execution_count": 16,
   "id": "bd85f440-a99b-43f0-ab76-4b111be002c9",
   "metadata": {},
   "outputs": [
    {
     "data": {
      "application/vnd.jupyter.widget-view+json": {
       "model_id": "87e6c7e4fae341e092eed87721e8c953",
       "version_major": 2,
       "version_minor": 0
      },
      "text/plain": [
       "interactive(children=(IntSlider(value=500, description='p1', max=700, min=300, step=10), IntSlider(value=500, …"
      ]
     },
     "metadata": {},
     "output_type": "display_data"
    },
    {
     "data": {
      "text/plain": [
       "<function __main__.set_pos(p1, p2, p3, p4, p5, p6, p7)>"
      ]
     },
     "execution_count": 16,
     "metadata": {},
     "output_type": "execute_result"
    }
   ],
   "source": [
    "def set_pos(p1, p2, p3, p4, p5, p6, p7):\n",
    "    io.set_position_and_speed(1, p1, int(1023*0.111*1))\n",
    "    io.set_position_and_speed(2, p2, int(1023*0.111*1))\n",
    "    io.set_position_and_speed(3, p3, int(1023*0.111*1))\n",
    "    io.set_position_and_speed(4, p4, int(1023*0.111*1))\n",
    "    io.set_position_and_speed(5, p5, int(1023*0.111*1))\n",
    "    io.set_position_and_speed(6, p6, int(1023*0.111*1))\n",
    "    io.set_position_and_speed(7, p7, int(1023*0.111*1))\n",
    "from ipywidgets import interact\n",
    "interact(set_pos, p1=(300, 700, 10), p2=(300, 700, 10), p3=(300, 700, 10), p4=(300, 700, 10), p5=(300, 700, 10), p6=(300, 700, 10), p7=(300, 700, 10))"
   ]
  },
  {
   "cell_type": "code",
   "execution_count": 10,
   "id": "3e73b4da-02cb-49a0-98c4-761eacf9e114",
   "metadata": {},
   "outputs": [],
   "source": [
    "io.close()"
   ]
  }
 ],
 "metadata": {
  "kernelspec": {
   "display_name": "Python 3 (ipykernel)",
   "language": "python",
   "name": "python3"
  },
  "language_info": {
   "codemirror_mode": {
    "name": "ipython",
    "version": 3
   },
   "file_extension": ".py",
   "mimetype": "text/x-python",
   "name": "python",
   "nbconvert_exporter": "python",
   "pygments_lexer": "ipython3",
   "version": "3.8.10"
  }
 },
 "nbformat": 4,
 "nbformat_minor": 5
}
