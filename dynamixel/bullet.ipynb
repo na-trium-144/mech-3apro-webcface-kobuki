{
 "cells": [
  {
   "cell_type": "code",
   "execution_count": 2,
   "id": "ae064f0d-af09-4ffc-a421-1f0ac1f8f9a1",
   "metadata": {},
   "outputs": [
    {
     "name": "stderr",
     "output_type": "stream",
     "text": [
      "pybullet build time: Nov 28 2023 23:45:17\n"
     ]
    }
   ],
   "source": [
    "import pybullet as p\n",
    "import time\n",
    "import pybullet_data\n",
    "physicsClient = p.connect(p.GUI)#or p.DIRECT for non-graphical version\n",
    "p.setAdditionalSearchPath(pybullet_data.getDataPath()) #optionally"
   ]
  },
  {
   "cell_type": "code",
   "execution_count": 3,
   "id": "ee412edb-f5cc-42e7-bb91-fd8b4a38b14c",
   "metadata": {},
   "outputs": [],
   "source": [
    "planeId = p.loadURDF(\"plane.urdf\")"
   ]
  },
  {
   "cell_type": "code",
   "execution_count": 4,
   "id": "a1d76444-5c07-497a-8a79-50cc9d052c92",
   "metadata": {},
   "outputs": [],
   "source": [
    "startPos = [0,0,0]\n",
    "startOrientation = p.getQuaternionFromEuler([0,0,0])\n",
    "robotId = p.loadURDF(\"../ik/robot.urdf\", startPos, startOrientation)"
   ]
  },
  {
   "cell_type": "code",
   "execution_count": 5,
   "id": "0ea47fe5-dbce-435b-9f74-2c2243cb0dd8",
   "metadata": {},
   "outputs": [],
   "source": [
    "import threading\n",
    "def sim_main():\n",
    "    while True:\n",
    "        p.stepSimulation()\n",
    "        time.sleep(1./240.)\n",
    "sim_t = threading.Thread(target=sim_main)\n",
    "sim_t.start()"
   ]
  },
  {
   "cell_type": "markdown",
   "id": "05d0a60e-1901-425e-957f-21e9efcf62fc",
   "metadata": {},
   "source": [
    "↑ ここまでpybulletの初期化 (1回しか実行しちゃいけない類のやつ)\n",
    "\n",
    "----"
   ]
  },
  {
   "cell_type": "code",
   "execution_count": 6,
   "id": "2a006398-8aab-48a6-85ea-835adfb4b245",
   "metadata": {},
   "outputs": [],
   "source": [
    "import webcface\n",
    "wcli = webcface.Client(\"bullet-sim\")\n",
    "wcli.start()"
   ]
  },
  {
   "cell_type": "code",
   "execution_count": 7,
   "id": "4670fc1c-43e1-4560-b5df-e229cda6b89a",
   "metadata": {},
   "outputs": [],
   "source": [
    "import math\n",
    "def rad2servo(angle: float) -> float:\n",
    "    return (math.degrees(angle) + 150) * 1023 / 300\n",
    "def servo2rad(angle: float) -> float:\n",
    "    return math.radians(angle / 1023 * 300 - 150)"
   ]
  },
  {
   "cell_type": "code",
   "execution_count": 39,
   "id": "fd038b0e-31e4-49cf-a457-1624a98e7318",
   "metadata": {
    "scrolled": true
   },
   "outputs": [
    {
     "name": "stdout",
     "output_type": "stream",
     "text": [
      "move_servo (500.0, 500.0, 500.0, 500.0, 500.0, 500.0, 500.0)\n",
      "move_servo (500.0, 500.0, 500.0, 500.0, 500.0, 500.0, 500.0)\n",
      "move_servo (500.0, 500.0, 500.0, 500.0, 500.0, 500.0, 500.0)\n",
      "move_servo (491.306876, 585.804882, 445.370512, 475.901144, 581.88576, 479.315718, 500.0)\n",
      "move_servo (502.918516, 588.193221, 495.71787, 451.969544, 572.076862, 480.11123, 500.0)\n",
      "move_servo (519.219167, 550.265088, 559.470088, 401.533316, 493.834071, 494.524433, 500.0)\n",
      "move_servo (518.682004, 406.704099, 565.563476, 399.596883, 476.905504, 494.634566, 500.0)\n",
      "move_servo (519.381039, 95.438109, 482.942641, 172.119657, 417.311614, 503.336215, 500.0)\n",
      "move_servo (541.290816, 80.553702, 444.903857, 191.781521, 417.302717, 503.681849, 500.0)\n",
      "move_servo (608.192423, 54.117759, 353.537715, 253.535948, 483.561716, 417.539027, 500.0)\n",
      "move_servo (733.645259, 156.831588, 210.606106, 206.334888, 362.981379, 657.89414, 500.0)\n",
      "move_servo (758.257417, 173.968556, 172.662759, 217.631287, 279.347944, 672.570768, 500.0)\n",
      "move_servo (765.775306, 175.113855, 157.223845, 227.278979, 239.947273, 680.169533, 500.0)\n",
      "move_servo (500.0, 500.0, 500.0, 500.0, 500.0, 500.0, 500.0)\n",
      "move_servo (503.37948, 487.636871, 499.432966, 505.049669, 483.397441, 504.203526, 500.0)\n",
      "move_servo (498.771538, 504.965745, 502.835872, 498.519326, 495.434058, 500.984024, 500.0)\n",
      "move_servo (498.197127, 508.249986, 507.468887, 496.593959, 502.841848, 499.130221, 500.0)\n",
      "move_servo (498.99848, 505.29884, 515.285906, 496.149123, 503.612622, 498.921272, 500.0)\n",
      "move_servo (500.444533, 497.095841, 525.757591, 496.580103, 498.602023, 500.121038, 500.0)\n",
      "move_servo (502.321934, 481.1166, 538.069806, 498.670996, 488.592331, 502.589148, 500.0)\n",
      "move_servo (504.281456, 453.45909, 549.333173, 503.59302, 477.717449, 505.421384, 500.0)\n",
      "move_servo (509.098986, 472.33432, 550.736315, 500.473921, 479.746889, 504.763393, 500.0)\n",
      "move_servo (514.736686, 483.935795, 551.022321, 498.135731, 481.705186, 504.170596, 500.0)\n",
      "move_servo (521.036103, 487.850888, 551.017833, 497.505955, 482.55587, 503.93529, 500.0)\n",
      "move_servo (527.925229, 484.184413, 551.269489, 498.888966, 481.518488, 504.254858, 500.0)\n",
      "move_servo (535.405721, 472.895953, 551.591732, 502.302162, 478.847451, 505.07273, 500.0)\n",
      "move_servo (543.57539, 454.150484, 550.972641, 507.328528, 476.023895, 506.02431, 500.0)\n",
      "move_servo (552.654473, 429.400371, 548.287871, 512.589208, 474.512351, 506.692488, 500.0)\n",
      "move_servo (562.878355, 401.393307, 543.268931, 516.454199, 474.179256, 507.010128, 500.0)\n",
      "move_servo (574.357456, 372.995677, 536.273461, 518.471466, 474.011989, 507.178241, 500.0)\n",
      "move_servo (587.155179, 346.176994, 527.599349, 519.275893, 473.287635, 507.399823, 500.0)\n",
      "move_servo (601.435696, 321.846538, 517.22668, 519.70666, 471.669751, 507.805992, 500.0)\n",
      "move_servo (617.578748, 300.155052, 504.735885, 520.436699, 469.00684, 508.47585, 500.0)\n",
      "move_servo (636.402462, 280.751765, 489.060727, 522.075256, 465.199916, 509.471781, 500.0)\n",
      "move_servo (617.649472, 299.927525, 505.41065, 520.029418, 467.507861, 508.800994, 500.0)\n",
      "move_servo (601.477349, 321.395783, 518.515438, 519.434612, 469.120094, 508.385709, 500.0)\n",
      "move_servo (587.121306, 345.416846, 529.6097, 519.660126, 469.665069, 508.272431, 500.0)\n",
      "move_servo (574.196653, 371.718197, 539.386091, 520.205429, 468.786641, 508.512777, 500.0)\n",
      "move_servo (562.52398, 399.118392, 548.325856, 520.472972, 465.958438, 509.191635, 500.0)\n",
      "move_servo (552.101288, 424.857335, 556.746115, 519.774553, 460.518706, 510.420956, 500.0)\n",
      "move_servo (543.058886, 444.533747, 564.435386, 517.828231, 452.624277, 512.150726, 500.0)\n",
      "move_servo (541.598171, 457.934733, 571.474344, 515.885562, 443.502179, 514.174022, 500.0)\n",
      "move_servo (540.740494, 467.430986, 578.201049, 513.69402, 433.624494, 516.364275, 500.0)\n",
      "move_servo (540.308116, 473.957693, 584.263269, 511.585708, 424.128858, 518.472765, 500.0)\n",
      "move_servo (540.136315, 478.641675, 589.671935, 509.654821, 415.372826, 520.419339, 500.0)\n",
      "move_servo (540.126348, 482.195981, 594.543329, 507.894162, 407.345888, 522.20502, 500.0)\n",
      "move_servo (540.222938, 485.023763, 598.988252, 506.276015, 399.949042, 523.850933, 500.0)\n",
      "move_servo (540.393956, 487.358046, 603.092609, 504.774117, 393.081068, 525.379083, 500.0)\n",
      "move_servo (540.619613, 489.340626, 606.920463, 503.367385, 386.657004, 526.808083, 500.0)\n",
      "move_servo (540.887035, 491.062379, 610.519775, 502.039485, 380.608864, 528.152903, 500.0)\n",
      "move_servo (541.187435, 492.58428, 613.927024, 500.77778, 374.882655, 529.425471, 500.0)\n",
      "move_servo (541.51458, 493.948876, 617.170514, 499.572373, 369.435197, 530.635354, 500.0)\n",
      "move_servo (541.863892, 495.186834, 620.272575, 498.415426, 364.231651, 531.790284, 500.0)\n",
      "move_servo (542.231914, 496.320892, 623.251151, 497.300631, 359.243531, 532.896595, 500.0)\n",
      "move_servo (542.615976, 497.368314, 626.120878, 496.222844, 354.44728, 533.959536, 500.0)\n",
      "move_servo (543.01397, 498.34248, 628.89386, 495.177819, 349.8232, 534.983498, 500.0)\n",
      "move_servo (543.424201, 499.253943, 631.580231, 494.162006, 345.354649, 535.972197, 500.0)\n",
      "move_servo (543.845289, 500.111159, 634.188567, 493.172413, 341.027434, 536.928804, 500.0)\n",
      "move_servo (544.276091, 500.920991, 636.72619, 492.206492, 336.829361, 537.856049, 500.0)\n",
      "move_servo (544.715652, 501.68909, 639.199439, 491.262045, 332.749818, 538.756305, 500.0)\n",
      "move_servo (545.163162, 502.420142, 641.613799, 490.337177, 328.779583, 539.631641, 500.0)\n",
      "move_servo (545.617948, 503.118083, 643.974077, 489.430241, 324.910537, 540.483875, 500.0)\n",
      "move_servo (546.079381, 503.786241, 646.28452, 488.539771, 321.135499, 541.31462, 500.0)\n",
      "move_servo (546.546962, 504.427456, 648.548882, 487.664492, 317.448091, 542.125306, 500.0)\n",
      "move_servo (547.020242, 505.044168, 650.770515, 486.803266, 313.842615, 542.917213, 500.0)\n",
      "move_servo (547.498822, 505.638486, 652.952422, 485.955079, 310.313953, 543.691492, 500.0)\n",
      "move_servo (547.982353, 506.212243, 655.097307, 485.119021, 306.857494, 544.449179, 500.0)\n",
      "move_servo (548.470521, 506.767043, 657.207617, 484.294273, 303.469064, 545.191213, 500.0)\n",
      "move_servo (548.963046, 507.304296, 659.285571, 483.480097, 300.144873, 545.918446, 500.0)\n"
     ]
    }
   ],
   "source": [
    "# dynamixelに仕様をあわせる\n",
    "@wcli.func(args = [webcface.Arg(type=float)] * 7)\n",
    "def move_servo(*angles):\n",
    "    print(f\"move_servo {angles}\")\n",
    "    arm_joint = [30, 31, 33, 35, 36, 37, 39]\n",
    "    for i in range(7):\n",
    "        p.setJointMotorControl2(\n",
    "            robotId,\n",
    "            arm_joint[i],\n",
    "            p.POSITION_CONTROL,\n",
    "            servo2rad(angles[i]),\n",
    "            force=3,\n",
    "            positionGain=0.1,\n",
    "            velocityGain=1,\n",
    "        )\n"
   ]
  },
  {
   "cell_type": "code",
   "execution_count": 13,
   "id": "b6bc48c0-f498-4c3a-b1b9-9f8f23d75494",
   "metadata": {},
   "outputs": [],
   "source": [
    "enable_update_pos = True\n",
    "def update_pos():\n",
    "    arm_joint = [30, 31, 33, 35, 36, 37, 39]\n",
    "    while enable_update_pos:\n",
    "        for i in range(1, 8):\n",
    "            wcli.value(f\"servo/{i}\").set(rad2servo(p.getJointState(robotId, arm_joint[i - 1])[0]))\n",
    "        wcli.sync()\n",
    "        time.sleep(0.1)\n",
    "threading.Thread(target=update_pos, daemon=True).start()"
   ]
  },
  {
   "cell_type": "code",
   "execution_count": 12,
   "id": "8f1016ab-97c3-458d-9c3a-cb3b23c10424",
   "metadata": {},
   "outputs": [],
   "source": [
    "# enable_update_pos = False"
   ]
  },
  {
   "cell_type": "code",
   "execution_count": 10,
   "id": "7fede575-9705-4ef4-9362-f47110930c8f",
   "metadata": {},
   "outputs": [],
   "source": [
    "p.setGravity(0,0,-10)"
   ]
  },
  {
   "cell_type": "code",
   "execution_count": 11,
   "id": "6171ea78-1ebb-424c-ad3c-dfbd60224c6d",
   "metadata": {},
   "outputs": [],
   "source": [
    "@wcli.func()\n",
    "def reset_pos():\n",
    "    p.resetBasePositionAndOrientation(robotId, startPos, startOrientation)\n",
    "    p.resetBaseVelocity(robotId, [0, 0, 0], [0, 0, 0])"
   ]
  },
  {
   "cell_type": "markdown",
   "id": "3733852c-d573-4710-9950-6d0e50903ace",
   "metadata": {},
   "source": [
    "----"
   ]
  },
  {
   "cell_type": "code",
   "execution_count": 23,
   "id": "0c714f0a-39de-4e1e-aaae-ea2a89d849c9",
   "metadata": {},
   "outputs": [
    {
     "data": {
      "text/plain": [
       "<webcface.client_data.ClientData at 0x74e32841b430>"
      ]
     },
     "execution_count": 23,
     "metadata": {},
     "output_type": "execute_result"
    }
   ],
   "source": [
    "arm_joint = [30, 31, 33, 35, 36, 37, 39]\n",
    "for i in range(1, 8):\n",
    "    wcli.value(f\"servo/{i}\").set(rad2servo(p.getJointState(robotId, arm_joint[i - 1])[0]))\n",
    "wcli.sync()\n",
    "time.sleep(0.1)"
   ]
  },
  {
   "cell_type": "code",
   "execution_count": 38,
   "id": "53437f80-432d-4330-80e4-137f1ae847c3",
   "metadata": {},
   "outputs": [
    {
     "data": {
      "text/plain": [
       "<Thread(Thread-7 (msg_send), started daemon 128516731434560)>"
      ]
     },
     "execution_count": 38,
     "metadata": {},
     "output_type": "execute_result"
    }
   ],
   "source": [
    "wcli.value(f\"servo/{i}\").set(0)\n",
    "wcli._send_thread"
   ]
  },
  {
   "cell_type": "code",
   "execution_count": 68,
   "id": "73b6e56e-46c9-48f7-ae4c-4896ee831f21",
   "metadata": {},
   "outputs": [],
   "source": [
    "p.resetBasePositionAndOrientation(robotId, startPos, startOrientation)\n",
    "p.resetBaseVelocity(robotId, [0, 0, 0], [0, 0, 0])"
   ]
  },
  {
   "cell_type": "code",
   "execution_count": 10,
   "id": "58433073-12c8-4888-a7eb-4b9ec7767384",
   "metadata": {},
   "outputs": [
    {
     "data": {
      "text/plain": [
       "(-0.3459644951688137,\n",
       " 0.0006254333756990282,\n",
       " (0.0, 0.0, 0.0, 0.0, 0.0, 0.0),\n",
       " 0.0013008215625082875)"
      ]
     },
     "execution_count": 10,
     "metadata": {},
     "output_type": "execute_result"
    }
   ],
   "source": [
    "p.getJointState(robotId, 30)"
   ]
  },
  {
   "cell_type": "code",
   "execution_count": 5,
   "id": "24b331b3-4f89-43c6-a159-405110665949",
   "metadata": {},
   "outputs": [
    {
     "data": {
      "text/plain": [
       "47"
      ]
     },
     "execution_count": 5,
     "metadata": {},
     "output_type": "execute_result"
    }
   ],
   "source": [
    "p.getNumJoints(robotId)"
   ]
  },
  {
   "cell_type": "code",
   "execution_count": 6,
   "id": "94556074-c660-44a3-9b05-202674336032",
   "metadata": {
    "scrolled": true
   },
   "outputs": [
    {
     "name": "stdout",
     "output_type": "stream",
     "text": [
      "0 (0, b'base_joint', 4, -1, -1, 0, 0.0, 0.0, 0.0, -1.0, 0.0, 0.0, b'base_link', (0.0, 0.0, 0.0), (0.0, 0.0, 0.0102), (0.0, 0.0, 0.0, 1.0), -1)\n",
      "1 (1, b'wheel_left_joint', 0, 7, 6, 1, 0.0, 0.0, 0.0, -1.0, 0.0, 0.0, b'wheel_left_link', (0.0, 0.0, 1.0), (-0.01, 0.115, 0.025), (0.7071067811865475, 0.0, 0.0, 0.7071067811865476), 0)\n",
      "2 (2, b'wheel_right_joint', 0, 8, 7, 1, 0.0, 0.0, 0.0, -1.0, 0.0, 0.0, b'wheel_right_link', (0.0, 0.0, 1.0), (-0.01, -0.115, 0.025), (0.7071067811865475, 0.0, 0.0, 0.7071067811865476), 0)\n",
      "3 (3, b'caster_front_joint', 4, -1, -1, 0, 0.0, 0.0, 0.0, -1.0, 0.0, 0.0, b'caster_front_link', (0.0, 0.0, 0.0), (0.10500000000000001, 0.0, 0.007), (0.7071067811865475, 0.0, 0.0, 0.7071067811865476), 0)\n",
      "4 (4, b'caster_back_joint', 4, -1, -1, 0, 0.0, 0.0, 0.0, -1.0, 0.0, 0.0, b'caster_back_link', (0.0, 0.0, 0.0), (-0.14500000000000002, 0.0, 0.009), (0.7071067811865475, 0.0, 0.0, 0.7071067811865476), 0)\n",
      "5 (5, b'gyro_joint', 4, -1, -1, 0, 0.0, 0.0, 0.0, -1.0, 0.0, 0.0, b'gyro_link', (0.0, 0.0, 0.0), (0.046, 0.062, 0.0202), (0.0, 0.0, 0.0, 1.0), 0)\n",
      "6 (6, b'cliff_sensor_left_joint', 4, -1, -1, 0, 0.0, 0.0, 0.0, -1.0, 0.0, 0.0, b'cliff_sensor_left_link', (0.0, 0.0, 0.0), (0.07734, 0.13601, 0.0214), (0.0, -0.7071067811865475, 0.0, 0.7071067811865476), 0)\n",
      "7 (7, b'cliff_sensor_right_joint', 4, -1, -1, 0, 0.0, 0.0, 0.0, -1.0, 0.0, 0.0, b'cliff_sensor_right_link', (0.0, 0.0, 0.0), (0.07500000000000001, -0.13601, 0.0214), (0.0, -0.7071067811865475, 0.0, 0.7071067811865476), 0)\n",
      "8 (8, b'cliff_sensor_front_joint', 4, -1, -1, 0, 0.0, 0.0, 0.0, -1.0, 0.0, 0.0, b'cliff_sensor_front_link', (0.0, 0.0, 0.0), (0.146, 0.0, 0.0214), (0.0, -0.7071067811865475, 0.0, 0.7071067811865476), 0)\n",
      "9 (9, b'pole_bottom_0_joint', 4, -1, -1, 0, 0.0, 0.0, 0.0, -1.0, 0.0, 0.0, b'pole_bottom_0_link', (0.0, 0.0, 0.0), (0.11, 0.082, 0.1028), (0.0, 0.0, 0.0, 1.0), 0)\n",
      "10 (10, b'pole_bottom_1_joint', 4, -1, -1, 0, 0.0, 0.0, 0.0, -1.0, 0.0, 0.0, b'pole_bottom_1_link', (0.0, 0.0, 0.0), (0.045, 0.12, 0.1028), (0.0, 0.0, 0.0, 1.0), 0)\n",
      "11 (11, b'pole_bottom_2_joint', 4, -1, -1, 0, 0.0, 0.0, 0.0, -1.0, 0.0, 0.0, b'pole_bottom_2_link', (0.0, 0.0, 0.0), (-0.065, 0.12, 0.1028), (0.0, 0.0, 0.0, 1.0), 0)\n",
      "12 (12, b'pole_bottom_3_joint', 4, -1, -1, 0, 0.0, 0.0, 0.0, -1.0, 0.0, 0.0, b'pole_bottom_3_link', (0.0, 0.0, 0.0), (0.11, -0.082, 0.1028), (0.0, 0.0, 0.0, 1.0), 0)\n",
      "13 (13, b'pole_bottom_4_joint', 4, -1, -1, 0, 0.0, 0.0, 0.0, -1.0, 0.0, 0.0, b'pole_bottom_4_link', (0.0, 0.0, 0.0), (0.045, -0.12, 0.1028), (0.0, 0.0, 0.0, 1.0), 0)\n",
      "14 (14, b'pole_bottom_5_joint', 4, -1, -1, 0, 0.0, 0.0, 0.0, -1.0, 0.0, 0.0, b'pole_bottom_5_link', (0.0, 0.0, 0.0), (-0.065, -0.12, 0.1028), (0.0, 0.0, 0.0, 1.0), 0)\n",
      "15 (15, b'plate_bottom_joint', 4, -1, -1, 0, 0.0, 0.0, 0.0, -1.0, 0.0, 0.0, b'plate_bottom_link', (0.0, 0.0, 0.0), (0.013640000000000001, 0.0, 0.1306), (0.0, 0.0, 0.0, 1.0), 0)\n",
      "16 (16, b'pole_middle_0_joint', 4, -1, -1, 0, 0.0, 0.0, 0.0, -1.0, 0.0, 0.0, b'pole_middle_0_link', (0.0, 0.0, 0.0), (0.0281, 0.1505, 0.164), (0.0, 0.0, 0.0, 1.0), 0)\n",
      "17 (17, b'pole_middle_1_joint', 4, -1, -1, 0, 0.0, 0.0, 0.0, -1.0, 0.0, 0.0, b'pole_middle_1_link', (0.0, 0.0, 0.0), (0.0281, -0.1505, 0.164), (0.0, 0.0, 0.0, 1.0), 0)\n",
      "18 (18, b'pole_middle_2_joint', 4, -1, -1, 0, 0.0, 0.0, 0.0, -1.0, 0.0, 0.0, b'pole_middle_2_link', (0.0, 0.0, 0.0), (-0.048100000000000004, 0.1505, 0.164), (0.0, 0.0, 0.0, 1.0), 0)\n",
      "19 (19, b'pole_middle_3_joint', 4, -1, -1, 0, 0.0, 0.0, 0.0, -1.0, 0.0, 0.0, b'pole_middle_3_link', (0.0, 0.0, 0.0), (-0.048100000000000004, -0.1505, 0.164), (0.0, 0.0, 0.0, 1.0), 0)\n",
      "20 (20, b'plate_middle_joint', 4, -1, -1, 0, 0.0, 0.0, 0.0, -1.0, 0.0, 0.0, b'plate_middle_link', (0.0, 0.0, 0.0), (-0.02364, 0.0, 0.1874), (0.0, 0.0, 0.0, 1.0), 0)\n",
      "21 (21, b'pole_top_0_joint', 4, -1, -1, 0, 0.0, 0.0, 0.0, -1.0, 0.0, 0.0, b'pole_top_0_link', (0.0, 0.0, 0.0), (0.0281, 0.1505, 0.292), (0.0, 0.0, 0.0, 1.0), 0)\n",
      "22 (22, b'pole_top_1_joint', 4, -1, -1, 0, 0.0, 0.0, 0.0, -1.0, 0.0, 0.0, b'pole_top_1_link', (0.0, 0.0, 0.0), (0.0281, -0.1505, 0.292), (0.0, 0.0, 0.0, 1.0), 0)\n",
      "23 (23, b'pole_top_2_joint', 4, -1, -1, 0, 0.0, 0.0, 0.0, -1.0, 0.0, 0.0, b'pole_top_2_link', (0.0, 0.0, 0.0), (-0.048100000000000004, 0.1505, 0.292), (0.0, 0.0, 0.0, 1.0), 0)\n",
      "24 (24, b'pole_top_3_joint', 4, -1, -1, 0, 0.0, 0.0, 0.0, -1.0, 0.0, 0.0, b'pole_top_3_link', (0.0, 0.0, 0.0), (-0.048100000000000004, -0.1505, 0.292), (0.0, 0.0, 0.0, 1.0), 0)\n",
      "25 (25, b'pole_kinect_0_joint', 4, -1, -1, 0, 0.0, 0.0, 0.0, -1.0, 0.0, 0.0, b'pole_kinect_0_link', (0.0, 0.0, 0.0), (-0.1124, 0.098, 0.2372), (0.0, 0.0, 0.0, 1.0), 0)\n",
      "26 (26, b'pole_kinect_1_joint', 4, -1, -1, 0, 0.0, 0.0, 0.0, -1.0, 0.0, 0.0, b'pole_kinect_1_link', (0.0, 0.0, 0.0), (-0.1124, -0.098, 0.2372), (0.0, 0.0, 0.0, 1.0), 0)\n",
      "27 (27, b'plate_top_joint', 4, -1, -1, 0, 0.0, 0.0, 0.0, -1.0, 0.0, 0.0, b'plate_top_link', (0.0, 0.0, 0.0), (-0.02364, 0.0, 0.3966), (0.0, 0.0, 0.0, 1.0), 0)\n",
      "28 (28, b'joint0', 4, -1, -1, 0, 0.0, 0.0, 0.0, -1.0, 0.0, 0.0, b'arm_base_link', (0.0, 0.0, 0.0), (0.182, 0.0, -0.025), (0.0, 0.0, 0.0, 1.0), 27)\n",
      "29 (29, b'arm_link0_joint', 4, -1, -1, 0, 0.0, 0.0, 0.0, -1.0, 0.0, 0.0, b'arm_link0_link', (0.0, 0.0, 0.0), (0.045, 0.0, 0.0), (0.0, 0.0, 0.0, 1.0), 28)\n",
      "30 (30, b'arm_joint1', 0, 9, 8, 1, 0.0, 0.0, -2.1944, 2.1944, 1.5, 6.0, b'arm_link1_link', (0.0, 1.0, 0.0), (0.01345, 0.0, 0.0), (0.5, 0.5, 0.5, -0.5), 29)\n",
      "31 (31, b'arm_joint2', 0, 10, 9, 1, 0.1, 0.0, -2.71, 2.71, 1.5, 6.0, b'arm_link2_link', (0.0, 0.0, -1.0), (0.0, 0.0, 0.027250000000000003), (0.7071067811865476, 0.7071067811865475, 4.329780281177466e-17, -4.329780281177466e-17), 30)\n",
      "32 (32, b'arm_link2_motor_joint', 4, -1, -1, 0, 0.0, 0.0, 0.0, -1.0, 0.0, 0.0, b'arm_link2_motor_link', (0.0, 0.0, 0.0), (-0.046549999999999994, 0.0, -0.02), (1.0, 0.0, 0.0, -6.123233995736766e-17), 31)\n",
      "33 (33, b'arm_joint3', 0, 11, 10, 1, 0.0, 0.0, -2.1944, 2.1944, 1.5, 6.0, b'arm_link3_link', (0.0, 1.0, 0.0), (0.0, 0.0, 0.01345), (0.0, 0.0, 0.0, 1.0), 32)\n",
      "34 (34, b'arm_link3_motor_joint', 4, -1, -1, 0, 0.0, 0.0, 0.0, -1.0, 0.0, 0.0, b'arm_link3_motor_link', (0.0, 0.0, 0.0), (-0.014, 0.0, 0.03225), (-6.123233995736766e-17, -6.123233995736766e-17, 1.0, 3.749399456654644e-33), 33)\n",
      "35 (35, b'arm_joint4', 0, 12, 11, 1, 0.0, 0.0, -2.71, 2.71, 1.5, 6.0, b'arm_link4_link', (0.0, 0.0, -1.0), (0.01345, 0.0, 0.05), (0.0, 1.0, 0.0, -6.123233995736766e-17), 34)\n",
      "36 (36, b'arm_joint5', 0, 13, 12, 1, 0.1, 0.0, -2.1944, 1.6708, 1.5, 6.0, b'arm_link5_link', (0.0, 0.0, 1.0), (0.0, 0.0, -0.02275), (0.5, -0.5, 0.5, -0.5), 35)\n",
      "37 (37, b'arm_joint6', 0, 14, 13, 1, 0.1, 0.0, -2.71, 2.71, 1.5, 6.0, b'arm_link6_link', (0.0, 0.0, -1.0), (-0.05655, 0.0, 0.0), (0.5, 0.5, 0.5, -0.5), 36)\n",
      "38 (38, b'arm_link6_motor_joint', 4, -1, -1, 0, 0.0, 0.0, 0.0, -1.0, 0.0, 0.0, b'arm_link6_motor_link', (0.0, 0.0, 0.0), (0.01345, 0.03, -0.05), (0.5, 0.5, 0.5, -0.5), 37)\n",
      "39 (39, b'gripper_joint', 0, 15, 14, 1, 0.0, 0.0, -1.6708, 1.6708, 1.5, 6.0, b'arm_link7_link', (0.0, 1.0, 0.0), (0.01345, 0.0, 0.0), (0.5, 0.5, 0.5, -0.5), 38)\n",
      "40 (40, b'arm_gripper_left_joint', 4, -1, -1, 0, 0.0, 0.0, 0.0, -1.0, 0.0, 0.0, b'arm_gripper_left_link', (0.0, 0.0, 0.0), (0.0, 0.0, 0.00425), (0.0, 0.0, 1.0, -6.123233995736766e-17), 39)\n",
      "41 (41, b'arm_gripper_right_joint', 4, -1, -1, 0, 0.0, 0.0, 0.0, -1.0, 0.0, 0.0, b'arm_gripper_right_link', (0.0, 0.0, 0.0), (-0.02755, 0.0, 0.0), (0.5, -0.5, -0.5, -0.5), 38)\n",
      "42 (42, b'camera_rgb_joint', 4, -1, -1, 0, 0.0, 0.0, 0.0, -1.0, 0.0, 0.0, b'camera_rgb_frame', (0.0, 0.0, 0.0), (-0.09699999999999999, -0.0125, 0.287), (0.0, 0.0, 0.0, 1.0), 0)\n",
      "43 (43, b'camera_rgb_optical_joint', 4, -1, -1, 0, 0.0, 0.0, 0.0, -1.0, 0.0, 0.0, b'camera_rgb_optical_frame', (0.0, 0.0, 0.0), (0.0, 0.0, 0.0), (0.5, -0.5, 0.5, 0.5), 42)\n",
      "44 (44, b'camera_joint', 4, -1, -1, 0, 0.0, 0.0, 0.0, -1.0, 0.0, 0.0, b'camera_link', (0.0, 0.0, 0.0), (-0.031, 0.0125, -0.016), (0.0, 0.0, 0.0, 1.0), 42)\n",
      "45 (45, b'camera_depth_joint', 4, -1, -1, 0, 0.0, 0.0, 0.0, -1.0, 0.0, 0.0, b'camera_depth_frame', (0.0, 0.0, 0.0), (0.0, 0.025, 0.0), (0.0, 0.0, 0.0, 1.0), 42)\n",
      "46 (46, b'camera_depth_optical_joint', 4, -1, -1, 0, 0.0, 0.0, 0.0, -1.0, 0.0, 0.0, b'camera_depth_optical_frame', (0.0, 0.0, 0.0), (0.0, 0.0, 0.0), (0.5, -0.5, 0.5, 0.5), 45)\n"
     ]
    }
   ],
   "source": [
    "for i in range(p.getNumJoints(robotId)):\n",
    "    print(i, p.getJointInfo(robotId, i))"
   ]
  },
  {
   "cell_type": "code",
   "execution_count": 7,
   "id": "29186024-a2e6-42ac-8544-732b03a1f368",
   "metadata": {},
   "outputs": [],
   "source": [
    "arm_joint = [30, 31, 33, 35, 36, 37, 39]"
   ]
  },
  {
   "cell_type": "code",
   "execution_count": 16,
   "id": "2ee06122-848b-4a23-ab2a-b351cee61e17",
   "metadata": {},
   "outputs": [],
   "source": [
    "p.setJointMotorControl2(\n",
    "    robotId,\n",
    "    arm_joint[0],\n",
    "    controlMode=p.POSITION_CONTROL,\n",
    "    targetPosition=0\n",
    ")\n",
    "p.setJointMotorControl2(\n",
    "    robotId,\n",
    "    arm_joint[1],\n",
    "    controlMode=p.POSITION_CONTROL,\n",
    "    targetPosition=1\n",
    ")\n",
    "p.setJointMotorControl2(\n",
    "    robotId,\n",
    "    arm_joint[2],\n",
    "    controlMode=p.POSITION_CONTROL,\n",
    "    targetPosition=1\n",
    ")"
   ]
  },
  {
   "cell_type": "code",
   "execution_count": 67,
   "id": "e757d212-437b-488f-be8b-dc2d1897afb6",
   "metadata": {},
   "outputs": [],
   "source": [
    "for i in range(7):\n",
    "    p.setJointMotorControl2(\n",
    "        robotId,\n",
    "        arm_joint[i],\n",
    "        controlMode=p.POSITION_CONTROL,\n",
    "        targetPosition=0,\n",
    "        force=10\n",
    "    )"
   ]
  },
  {
   "cell_type": "code",
   "execution_count": 70,
   "id": "ee0ccc59-c7a0-4d5d-96cb-3b20d5916ee4",
   "metadata": {},
   "outputs": [
    {
     "ename": "KeyboardInterrupt",
     "evalue": "",
     "output_type": "error",
     "traceback": [
      "\u001b[1;31m---------------------------------------------------------------------------\u001b[0m",
      "\u001b[1;31mKeyboardInterrupt\u001b[0m                         Traceback (most recent call last)",
      "Cell \u001b[1;32mIn[70], line 10\u001b[0m\n\u001b[0;32m      2\u001b[0m \u001b[38;5;28;01mfor\u001b[39;00m i \u001b[38;5;129;01min\u001b[39;00m \u001b[38;5;28mrange\u001b[39m(\u001b[38;5;241m7\u001b[39m):\n\u001b[0;32m      3\u001b[0m     p\u001b[38;5;241m.\u001b[39msetJointMotorControl2(\n\u001b[0;32m      4\u001b[0m         robotId,\n\u001b[0;32m      5\u001b[0m         arm_joint[i],\n\u001b[1;32m   (...)\u001b[0m\n\u001b[0;32m      8\u001b[0m         force\u001b[38;5;241m=\u001b[39m\u001b[38;5;241m1\u001b[39m\n\u001b[0;32m      9\u001b[0m     )\n\u001b[1;32m---> 10\u001b[0m     \u001b[43mtime\u001b[49m\u001b[38;5;241;43m.\u001b[39;49m\u001b[43msleep\u001b[49m\u001b[43m(\u001b[49m\u001b[38;5;241;43m2\u001b[39;49m\u001b[43m)\u001b[49m\n\u001b[0;32m     11\u001b[0m     p\u001b[38;5;241m.\u001b[39msetJointMotorControl2(\n\u001b[0;32m     12\u001b[0m         robotId,\n\u001b[0;32m     13\u001b[0m         arm_joint[i],\n\u001b[1;32m   (...)\u001b[0m\n\u001b[0;32m     16\u001b[0m         force\u001b[38;5;241m=\u001b[39m\u001b[38;5;241m1\u001b[39m\n\u001b[0;32m     17\u001b[0m     )\n\u001b[0;32m     18\u001b[0m     time\u001b[38;5;241m.\u001b[39msleep(\u001b[38;5;241m2\u001b[39m)\n",
      "\u001b[1;31mKeyboardInterrupt\u001b[0m: "
     ]
    }
   ],
   "source": [
    "# 1個ずつ1rad→0radに動かす\n",
    "for i in range(7):\n",
    "    p.setJointMotorControl2(\n",
    "        robotId,\n",
    "        arm_joint[i],\n",
    "        controlMode=p.POSITION_CONTROL,\n",
    "        targetPosition=1,\n",
    "        force=1\n",
    "    )\n",
    "    time.sleep(2)\n",
    "    p.setJointMotorControl2(\n",
    "        robotId,\n",
    "        arm_joint[i],\n",
    "        controlMode=p.POSITION_CONTROL,\n",
    "        targetPosition=0,\n",
    "        force=1\n",
    "    )\n",
    "    time.sleep(2)"
   ]
  },
  {
   "cell_type": "code",
   "execution_count": null,
   "id": "a11986e0-caff-4eef-82d8-2a7144ca047d",
   "metadata": {},
   "outputs": [],
   "source": []
  }
 ],
 "metadata": {
  "kernelspec": {
   "display_name": "Python 3 (ipykernel)",
   "language": "python",
   "name": "python3"
  },
  "language_info": {
   "codemirror_mode": {
    "name": "ipython",
    "version": 3
   },
   "file_extension": ".py",
   "mimetype": "text/x-python",
   "name": "python",
   "nbconvert_exporter": "python",
   "pygments_lexer": "ipython3",
   "version": "3.10.12"
  }
 },
 "nbformat": 4,
 "nbformat_minor": 5
}
