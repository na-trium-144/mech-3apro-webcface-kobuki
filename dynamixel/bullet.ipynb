{
 "cells": [
  {
   "cell_type": "code",
   "execution_count": 1,
   "id": "ae064f0d-af09-4ffc-a421-1f0ac1f8f9a1",
   "metadata": {},
   "outputs": [],
   "source": [
    "import pybullet as p\n",
    "import time\n",
    "import pybullet_data\n",
    "physicsClient = p.connect(p.GUI)#or p.DIRECT for non-graphical version\n",
    "p.setAdditionalSearchPath(pybullet_data.getDataPath()) #optionally"
   ]
  },
  {
   "cell_type": "code",
   "execution_count": 2,
   "id": "ee412edb-f5cc-42e7-bb91-fd8b4a38b14c",
   "metadata": {},
   "outputs": [],
   "source": [
    "planeId = p.loadURDF(\"plane.urdf\")"
   ]
  },
  {
   "cell_type": "code",
   "execution_count": 3,
   "id": "a1d76444-5c07-497a-8a79-50cc9d052c92",
   "metadata": {},
   "outputs": [],
   "source": [
    "startPos = [0,0,0]\n",
    "startOrientation = p.getQuaternionFromEuler([0,0,0])\n",
    "robotId = p.loadURDF(\"../ik/robot.urdf\", startPos, startOrientation)"
   ]
  },
  {
   "cell_type": "code",
   "execution_count": 4,
   "id": "0ea47fe5-dbce-435b-9f74-2c2243cb0dd8",
   "metadata": {},
   "outputs": [],
   "source": [
    "import threading\n",
    "def sim_main():\n",
    "    while True:\n",
    "        p.stepSimulation()\n",
    "        time.sleep(1./240.)\n",
    "sim_t = threading.Thread(target=sim_main)\n",
    "sim_t.start()"
   ]
  },
  {
   "cell_type": "markdown",
   "id": "05d0a60e-1901-425e-957f-21e9efcf62fc",
   "metadata": {},
   "source": [
    "↑ ここまでpybulletの初期化 (1回しか実行しちゃいけない類のやつ)\n",
    "\n",
    "----"
   ]
  },
  {
   "cell_type": "code",
   "execution_count": 5,
   "id": "2a006398-8aab-48a6-85ea-835adfb4b245",
   "metadata": {},
   "outputs": [],
   "source": [
    "import webcface\n",
    "wcli = webcface.Client(\"bullet-sim\")\n",
    "wcli.start()"
   ]
  },
  {
   "cell_type": "code",
   "execution_count": 6,
   "id": "4670fc1c-43e1-4560-b5df-e229cda6b89a",
   "metadata": {},
   "outputs": [],
   "source": [
    "import math\n",
    "def rad2servo(angle: float) -> float:\n",
    "    return (math.degrees(angle) + 150) * 1023 / 300\n",
    "def servo2rad(angle: float) -> float:\n",
    "    return math.radians(angle / 1023 * 300 - 150)"
   ]
  },
  {
   "cell_type": "code",
   "execution_count": 7,
   "id": "fd038b0e-31e4-49cf-a457-1624a98e7318",
   "metadata": {
    "scrolled": true
   },
   "outputs": [],
   "source": [
    "# dynamixelに仕様をあわせる\n",
    "@wcli.func(args = [webcface.Arg(type=float)] * 7)\n",
    "def move_servo(*angles):\n",
    "    print(f\"move_servo {angles}\")\n",
    "    arm_joint = [30, 31, 33, 35, 36, 37, 39]\n",
    "    for i in range(7):\n",
    "        p.setJointMotorControl2(\n",
    "            robotId,\n",
    "            arm_joint[i],\n",
    "            p.POSITION_CONTROL,\n",
    "            servo2rad(angles[i]),\n",
    "            force=3,\n",
    "            positionGain=0.1,\n",
    "            velocityGain=1,\n",
    "        )\n"
   ]
  },
  {
   "cell_type": "code",
   "execution_count": 8,
   "id": "b6bc48c0-f498-4c3a-b1b9-9f8f23d75494",
   "metadata": {},
   "outputs": [
    {
     "name": "stdout",
     "output_type": "stream",
     "text": [
      "move_servo (500.0, 500.0, 500.0, 500.0, 500.0, 500.0, 500.0)\n",
      "move_servo (511.990433, 430.185581, 517.123739, 522.726192, 435.550948, 516.504884, 500.0)\n",
      "move_servo (510.748761, 416.994942, 505.527808, 524.728107, 449.394232, 513.378256, 500.0)\n",
      "move_servo (513.59363, 395.342685, 490.556782, 527.928285, 462.126187, 510.594894, 500.0)\n",
      "move_servo (504.576981, 409.616253, 504.489159, 524.480426, 463.468918, 510.05341, 500.0)\n",
      "move_servo (499.133796, 417.607821, 514.781923, 521.952851, 465.750728, 509.355667, 500.0)\n",
      "move_servo (496.337714, 418.182622, 522.147792, 520.342817, 469.146323, 508.457722, 500.0)\n",
      "move_servo (495.384482, 410.648784, 527.362213, 519.62226, 472.934947, 507.525439, 500.0)\n",
      "move_servo (495.484315, 395.348406, 531.318491, 519.414232, 475.882538, 506.82362, 500.0)\n",
      "move_servo (496.001432, 373.362895, 534.412137, 519.111464, 477.51292, 506.423378, 500.0)\n",
      "move_servo (522.107112, 260.250964, 470.295601, 527.036683, 450.999483, 513.134511, 500.0)\n",
      "move_servo (496.387462, 359.60793, 549.686821, 526.5507, 448.276726, 513.735962, 500.0)\n",
      "move_servo (514.801184, 413.861795, 583.687948, 539.284382, 418.308631, 521.559862, 500.0)\n",
      "move_servo (550.579641, 406.10874, 566.951616, 542.316776, 444.556702, 515.617442, 500.0)\n",
      "move_servo (559.689209, 417.816468, 537.70711, 550.399723, 420.12482, 521.854384, 500.0)\n",
      "move_servo (550.704094, 404.780301, 567.28416, 542.130563, 443.552739, 515.840333, 500.0)\n",
      "move_servo (560.092475, 416.376272, 537.757581, 550.378609, 419.428258, 522.016145, 500.0)\n"
     ]
    }
   ],
   "source": [
    "enable_update_pos = True\n",
    "def update_pos():\n",
    "    arm_joint = [30, 31, 33, 35, 36, 37, 39]\n",
    "    while enable_update_pos:\n",
    "        for i in range(1, 8):\n",
    "            wcli.value(f\"servo/{i}\").set(rad2servo(p.getJointState(robotId, arm_joint[i - 1])[0]))\n",
    "        wcli.sync()\n",
    "        time.sleep(0.1)\n",
    "threading.Thread(target=update_pos, daemon=True).start()"
   ]
  },
  {
   "cell_type": "code",
   "execution_count": 12,
   "id": "8f1016ab-97c3-458d-9c3a-cb3b23c10424",
   "metadata": {},
   "outputs": [],
   "source": [
    "# enable_update_pos = False"
   ]
  },
  {
   "cell_type": "code",
   "execution_count": 9,
   "id": "7fede575-9705-4ef4-9362-f47110930c8f",
   "metadata": {},
   "outputs": [],
   "source": [
    "p.setGravity(0,0,-10)"
   ]
  },
  {
   "cell_type": "code",
   "execution_count": 10,
   "id": "6171ea78-1ebb-424c-ad3c-dfbd60224c6d",
   "metadata": {},
   "outputs": [
    {
     "name": "stdout",
     "output_type": "stream",
     "text": [
      "move_servo (500.0, 500.0, 500.0, 500.0, 500.0, 500.0, 500.0)\n",
      "move_servo (502.569615, 479.076773, 535.904083, 498.899871, 491.971919, 501.824025, 500.0)\n",
      "move_servo (533.695649, 494.83948, 534.023351, 496.742057, 498.873446, 500.074743, 500.0)\n",
      "move_servo (587.829534, 365.861883, 518.222099, 518.720439, 481.834095, 505.327855, 500.0)\n",
      "move_servo (500.0, 500.0, 500.0, 500.0, 500.0, 500.0, 500.0)\n",
      "move_servo (248.191103, 746.12943, 111.364563, 467.85595, 710.136223, 448.922427, 500.0)\n",
      "move_servo (278.405603, 740.165942, 71.261182, 499.02709, 826.438578, 385.361824, 500.0)\n",
      "move_servo (165.312614, 742.4491, 71.304057, 419.476915, 592.433262, 426.386209, 500.0)\n",
      "move_servo (282.156858, 753.121651, 247.720356, 416.317715, 536.925397, 436.863269, 500.0)\n",
      "move_servo (500.0, 500.0, 500.0, 500.0, 500.0, 500.0, 500.0)\n",
      "move_servo (500.0, 500.0, 374.804289, 500.0, 779.821298, 500.0, 500.0)\n",
      "move_servo (500.0, 500.0, 329.327132, 500.0, 713.678514, 500.0, 500.0)\n",
      "move_servo (500.000001, 499.999999, 373.074951, 499.999993, 474.102264, 906.413949, 500.0)\n",
      "move_servo (499.999944, 499.999971, 329.327137, 499.999974, 713.678521, 906.413949, 500.0)\n",
      "move_servo (397.571977, 644.661429, 387.447319, 500.000002, 474.102266, 769.135403, 500.0)\n",
      "move_servo (614.14915, 327.84468, 387.447319, 500.0, 474.102266, 802.623386, 500.0)\n",
      "move_servo (397.571977, 644.661429, 387.447319, 500.000001, 474.102266, 309.682053, 500.0)\n",
      "move_servo (619.563592, 313.638097, 263.027445, 489.197193, 802.986568, 309.682053, 500.0)\n",
      "move_servo (762.497267, 227.658443, 71.261182, 307.599077, 826.438578, 309.682053, 500.0)\n",
      "move_servo (812.661798, 244.443748, 71.261182, 369.013223, 826.438578, 309.682053, 500.0)\n",
      "move_servo (810.808336, 287.823642, 140.057771, 483.146269, 826.438578, 309.682053, 500.0)\n",
      "move_servo (775.522705, 306.129148, 281.005105, 484.626974, 760.994734, 309.682053, 500.0)\n"
     ]
    },
    {
     "name": "stderr",
     "output_type": "stream",
     "text": [
      "Exception in thread Exception in thread Thread-5:\n",
      "Traceback (most recent call last):\n",
      "  File \"C:\\Python38\\lib\\threading.py\", line 932, in _bootstrap_inner\n",
      "Thread-8:\n",
      "Traceback (most recent call last):\n",
      "  File \"C:\\Python38\\lib\\threading.py\", line 932, in _bootstrap_inner\n",
      "    self.run()\n",
      "  File \"C:\\Python38\\lib\\threading.py\", line 870, in run\n",
      "    self.run()\n",
      "  File \"C:\\Python38\\lib\\threading.py\", line 870, in run\n",
      "    self._target(*self._args, **self._kwargs)\n",
      "  File \"C:\\msys64\\tmp\\ipykernel_21536\\2076629836.py\", line 4, in sim_main\n",
      "    self._target(*self._args, **self._kwargs)\n",
      "  File \"C:\\msys64\\tmp\\ipykernel_21536\\1572555640.py\", line 6, in update_pos\n",
      "pybullet.error: Not connected to physics server.\n",
      "pybullet.error: Not connected to physics server.\n"
     ]
    }
   ],
   "source": [
    "@wcli.func()\n",
    "def reset_pos():\n",
    "    p.resetBasePositionAndOrientation(robotId, startPos, startOrientation)\n",
    "    p.resetBaseVelocity(robotId, [0, 0, 0], [0, 0, 0])"
   ]
  },
  {
   "cell_type": "markdown",
   "id": "3733852c-d573-4710-9950-6d0e50903ace",
   "metadata": {},
   "source": [
    "----"
   ]
  },
  {
   "cell_type": "code",
   "execution_count": 23,
   "id": "0c714f0a-39de-4e1e-aaae-ea2a89d849c9",
   "metadata": {},
   "outputs": [
    {
     "data": {
      "text/plain": [
       "<webcface.client_data.ClientData at 0x74e32841b430>"
      ]
     },
     "execution_count": 23,
     "metadata": {},
     "output_type": "execute_result"
    }
   ],
   "source": [
    "arm_joint = [30, 31, 33, 35, 36, 37, 39]\n",
    "for i in range(1, 8):\n",
    "    wcli.value(f\"servo/{i}\").set(rad2servo(p.getJointState(robotId, arm_joint[i - 1])[0]))\n",
    "wcli.sync()\n",
    "time.sleep(0.1)"
   ]
  },
  {
   "cell_type": "code",
   "execution_count": 38,
   "id": "53437f80-432d-4330-80e4-137f1ae847c3",
   "metadata": {},
   "outputs": [
    {
     "data": {
      "text/plain": [
       "<Thread(Thread-7 (msg_send), started daemon 128516731434560)>"
      ]
     },
     "execution_count": 38,
     "metadata": {},
     "output_type": "execute_result"
    }
   ],
   "source": [
    "wcli.value(f\"servo/{i}\").set(0)\n",
    "wcli._send_thread"
   ]
  },
  {
   "cell_type": "code",
   "execution_count": 68,
   "id": "73b6e56e-46c9-48f7-ae4c-4896ee831f21",
   "metadata": {},
   "outputs": [],
   "source": [
    "p.resetBasePositionAndOrientation(robotId, startPos, startOrientation)\n",
    "p.resetBaseVelocity(robotId, [0, 0, 0], [0, 0, 0])"
   ]
  },
  {
   "cell_type": "code",
   "execution_count": 10,
   "id": "58433073-12c8-4888-a7eb-4b9ec7767384",
   "metadata": {},
   "outputs": [
    {
     "data": {
      "text/plain": [
       "(-0.3459644951688137,\n",
       " 0.0006254333756990282,\n",
       " (0.0, 0.0, 0.0, 0.0, 0.0, 0.0),\n",
       " 0.0013008215625082875)"
      ]
     },
     "execution_count": 10,
     "metadata": {},
     "output_type": "execute_result"
    }
   ],
   "source": [
    "p.getJointState(robotId, 30)"
   ]
  },
  {
   "cell_type": "code",
   "execution_count": 5,
   "id": "24b331b3-4f89-43c6-a159-405110665949",
   "metadata": {},
   "outputs": [
    {
     "data": {
      "text/plain": [
       "47"
      ]
     },
     "execution_count": 5,
     "metadata": {},
     "output_type": "execute_result"
    }
   ],
   "source": [
    "p.getNumJoints(robotId)"
   ]
  },
  {
   "cell_type": "code",
   "execution_count": 6,
   "id": "94556074-c660-44a3-9b05-202674336032",
   "metadata": {
    "scrolled": true
   },
   "outputs": [
    {
     "name": "stdout",
     "output_type": "stream",
     "text": [
      "0 (0, b'base_joint', 4, -1, -1, 0, 0.0, 0.0, 0.0, -1.0, 0.0, 0.0, b'base_link', (0.0, 0.0, 0.0), (0.0, 0.0, 0.0102), (0.0, 0.0, 0.0, 1.0), -1)\n",
      "1 (1, b'wheel_left_joint', 0, 7, 6, 1, 0.0, 0.0, 0.0, -1.0, 0.0, 0.0, b'wheel_left_link', (0.0, 0.0, 1.0), (-0.01, 0.115, 0.025), (0.7071067811865475, 0.0, 0.0, 0.7071067811865476), 0)\n",
      "2 (2, b'wheel_right_joint', 0, 8, 7, 1, 0.0, 0.0, 0.0, -1.0, 0.0, 0.0, b'wheel_right_link', (0.0, 0.0, 1.0), (-0.01, -0.115, 0.025), (0.7071067811865475, 0.0, 0.0, 0.7071067811865476), 0)\n",
      "3 (3, b'caster_front_joint', 4, -1, -1, 0, 0.0, 0.0, 0.0, -1.0, 0.0, 0.0, b'caster_front_link', (0.0, 0.0, 0.0), (0.10500000000000001, 0.0, 0.007), (0.7071067811865475, 0.0, 0.0, 0.7071067811865476), 0)\n",
      "4 (4, b'caster_back_joint', 4, -1, -1, 0, 0.0, 0.0, 0.0, -1.0, 0.0, 0.0, b'caster_back_link', (0.0, 0.0, 0.0), (-0.14500000000000002, 0.0, 0.009), (0.7071067811865475, 0.0, 0.0, 0.7071067811865476), 0)\n",
      "5 (5, b'gyro_joint', 4, -1, -1, 0, 0.0, 0.0, 0.0, -1.0, 0.0, 0.0, b'gyro_link', (0.0, 0.0, 0.0), (0.046, 0.062, 0.0202), (0.0, 0.0, 0.0, 1.0), 0)\n",
      "6 (6, b'cliff_sensor_left_joint', 4, -1, -1, 0, 0.0, 0.0, 0.0, -1.0, 0.0, 0.0, b'cliff_sensor_left_link', (0.0, 0.0, 0.0), (0.07734, 0.13601, 0.0214), (0.0, -0.7071067811865475, 0.0, 0.7071067811865476), 0)\n",
      "7 (7, b'cliff_sensor_right_joint', 4, -1, -1, 0, 0.0, 0.0, 0.0, -1.0, 0.0, 0.0, b'cliff_sensor_right_link', (0.0, 0.0, 0.0), (0.07500000000000001, -0.13601, 0.0214), (0.0, -0.7071067811865475, 0.0, 0.7071067811865476), 0)\n",
      "8 (8, b'cliff_sensor_front_joint', 4, -1, -1, 0, 0.0, 0.0, 0.0, -1.0, 0.0, 0.0, b'cliff_sensor_front_link', (0.0, 0.0, 0.0), (0.146, 0.0, 0.0214), (0.0, -0.7071067811865475, 0.0, 0.7071067811865476), 0)\n",
      "9 (9, b'pole_bottom_0_joint', 4, -1, -1, 0, 0.0, 0.0, 0.0, -1.0, 0.0, 0.0, b'pole_bottom_0_link', (0.0, 0.0, 0.0), (0.11, 0.082, 0.1028), (0.0, 0.0, 0.0, 1.0), 0)\n",
      "10 (10, b'pole_bottom_1_joint', 4, -1, -1, 0, 0.0, 0.0, 0.0, -1.0, 0.0, 0.0, b'pole_bottom_1_link', (0.0, 0.0, 0.0), (0.045, 0.12, 0.1028), (0.0, 0.0, 0.0, 1.0), 0)\n",
      "11 (11, b'pole_bottom_2_joint', 4, -1, -1, 0, 0.0, 0.0, 0.0, -1.0, 0.0, 0.0, b'pole_bottom_2_link', (0.0, 0.0, 0.0), (-0.065, 0.12, 0.1028), (0.0, 0.0, 0.0, 1.0), 0)\n",
      "12 (12, b'pole_bottom_3_joint', 4, -1, -1, 0, 0.0, 0.0, 0.0, -1.0, 0.0, 0.0, b'pole_bottom_3_link', (0.0, 0.0, 0.0), (0.11, -0.082, 0.1028), (0.0, 0.0, 0.0, 1.0), 0)\n",
      "13 (13, b'pole_bottom_4_joint', 4, -1, -1, 0, 0.0, 0.0, 0.0, -1.0, 0.0, 0.0, b'pole_bottom_4_link', (0.0, 0.0, 0.0), (0.045, -0.12, 0.1028), (0.0, 0.0, 0.0, 1.0), 0)\n",
      "14 (14, b'pole_bottom_5_joint', 4, -1, -1, 0, 0.0, 0.0, 0.0, -1.0, 0.0, 0.0, b'pole_bottom_5_link', (0.0, 0.0, 0.0), (-0.065, -0.12, 0.1028), (0.0, 0.0, 0.0, 1.0), 0)\n",
      "15 (15, b'plate_bottom_joint', 4, -1, -1, 0, 0.0, 0.0, 0.0, -1.0, 0.0, 0.0, b'plate_bottom_link', (0.0, 0.0, 0.0), (0.013640000000000001, 0.0, 0.1306), (0.0, 0.0, 0.0, 1.0), 0)\n",
      "16 (16, b'pole_middle_0_joint', 4, -1, -1, 0, 0.0, 0.0, 0.0, -1.0, 0.0, 0.0, b'pole_middle_0_link', (0.0, 0.0, 0.0), (0.0281, 0.1505, 0.164), (0.0, 0.0, 0.0, 1.0), 0)\n",
      "17 (17, b'pole_middle_1_joint', 4, -1, -1, 0, 0.0, 0.0, 0.0, -1.0, 0.0, 0.0, b'pole_middle_1_link', (0.0, 0.0, 0.0), (0.0281, -0.1505, 0.164), (0.0, 0.0, 0.0, 1.0), 0)\n",
      "18 (18, b'pole_middle_2_joint', 4, -1, -1, 0, 0.0, 0.0, 0.0, -1.0, 0.0, 0.0, b'pole_middle_2_link', (0.0, 0.0, 0.0), (-0.048100000000000004, 0.1505, 0.164), (0.0, 0.0, 0.0, 1.0), 0)\n",
      "19 (19, b'pole_middle_3_joint', 4, -1, -1, 0, 0.0, 0.0, 0.0, -1.0, 0.0, 0.0, b'pole_middle_3_link', (0.0, 0.0, 0.0), (-0.048100000000000004, -0.1505, 0.164), (0.0, 0.0, 0.0, 1.0), 0)\n",
      "20 (20, b'plate_middle_joint', 4, -1, -1, 0, 0.0, 0.0, 0.0, -1.0, 0.0, 0.0, b'plate_middle_link', (0.0, 0.0, 0.0), (-0.02364, 0.0, 0.1874), (0.0, 0.0, 0.0, 1.0), 0)\n",
      "21 (21, b'pole_top_0_joint', 4, -1, -1, 0, 0.0, 0.0, 0.0, -1.0, 0.0, 0.0, b'pole_top_0_link', (0.0, 0.0, 0.0), (0.0281, 0.1505, 0.292), (0.0, 0.0, 0.0, 1.0), 0)\n",
      "22 (22, b'pole_top_1_joint', 4, -1, -1, 0, 0.0, 0.0, 0.0, -1.0, 0.0, 0.0, b'pole_top_1_link', (0.0, 0.0, 0.0), (0.0281, -0.1505, 0.292), (0.0, 0.0, 0.0, 1.0), 0)\n",
      "23 (23, b'pole_top_2_joint', 4, -1, -1, 0, 0.0, 0.0, 0.0, -1.0, 0.0, 0.0, b'pole_top_2_link', (0.0, 0.0, 0.0), (-0.048100000000000004, 0.1505, 0.292), (0.0, 0.0, 0.0, 1.0), 0)\n",
      "24 (24, b'pole_top_3_joint', 4, -1, -1, 0, 0.0, 0.0, 0.0, -1.0, 0.0, 0.0, b'pole_top_3_link', (0.0, 0.0, 0.0), (-0.048100000000000004, -0.1505, 0.292), (0.0, 0.0, 0.0, 1.0), 0)\n",
      "25 (25, b'pole_kinect_0_joint', 4, -1, -1, 0, 0.0, 0.0, 0.0, -1.0, 0.0, 0.0, b'pole_kinect_0_link', (0.0, 0.0, 0.0), (-0.1124, 0.098, 0.2372), (0.0, 0.0, 0.0, 1.0), 0)\n",
      "26 (26, b'pole_kinect_1_joint', 4, -1, -1, 0, 0.0, 0.0, 0.0, -1.0, 0.0, 0.0, b'pole_kinect_1_link', (0.0, 0.0, 0.0), (-0.1124, -0.098, 0.2372), (0.0, 0.0, 0.0, 1.0), 0)\n",
      "27 (27, b'plate_top_joint', 4, -1, -1, 0, 0.0, 0.0, 0.0, -1.0, 0.0, 0.0, b'plate_top_link', (0.0, 0.0, 0.0), (-0.02364, 0.0, 0.3966), (0.0, 0.0, 0.0, 1.0), 0)\n",
      "28 (28, b'joint0', 4, -1, -1, 0, 0.0, 0.0, 0.0, -1.0, 0.0, 0.0, b'arm_base_link', (0.0, 0.0, 0.0), (0.182, 0.0, -0.025), (0.0, 0.0, 0.0, 1.0), 27)\n",
      "29 (29, b'arm_link0_joint', 4, -1, -1, 0, 0.0, 0.0, 0.0, -1.0, 0.0, 0.0, b'arm_link0_link', (0.0, 0.0, 0.0), (0.045, 0.0, 0.0), (0.0, 0.0, 0.0, 1.0), 28)\n",
      "30 (30, b'arm_joint1', 0, 9, 8, 1, 0.0, 0.0, -2.1944, 2.1944, 1.5, 6.0, b'arm_link1_link', (0.0, 1.0, 0.0), (0.01345, 0.0, 0.0), (0.5, 0.5, 0.5, -0.5), 29)\n",
      "31 (31, b'arm_joint2', 0, 10, 9, 1, 0.1, 0.0, -2.71, 2.71, 1.5, 6.0, b'arm_link2_link', (0.0, 0.0, -1.0), (0.0, 0.0, 0.027250000000000003), (0.7071067811865476, 0.7071067811865475, 4.329780281177466e-17, -4.329780281177466e-17), 30)\n",
      "32 (32, b'arm_link2_motor_joint', 4, -1, -1, 0, 0.0, 0.0, 0.0, -1.0, 0.0, 0.0, b'arm_link2_motor_link', (0.0, 0.0, 0.0), (-0.046549999999999994, 0.0, -0.02), (1.0, 0.0, 0.0, -6.123233995736766e-17), 31)\n",
      "33 (33, b'arm_joint3', 0, 11, 10, 1, 0.0, 0.0, -2.1944, 2.1944, 1.5, 6.0, b'arm_link3_link', (0.0, 1.0, 0.0), (0.0, 0.0, 0.01345), (0.0, 0.0, 0.0, 1.0), 32)\n",
      "34 (34, b'arm_link3_motor_joint', 4, -1, -1, 0, 0.0, 0.0, 0.0, -1.0, 0.0, 0.0, b'arm_link3_motor_link', (0.0, 0.0, 0.0), (-0.014, 0.0, 0.03225), (-6.123233995736766e-17, -6.123233995736766e-17, 1.0, 3.749399456654644e-33), 33)\n",
      "35 (35, b'arm_joint4', 0, 12, 11, 1, 0.0, 0.0, -2.71, 2.71, 1.5, 6.0, b'arm_link4_link', (0.0, 0.0, -1.0), (0.01345, 0.0, 0.05), (0.0, 1.0, 0.0, -6.123233995736766e-17), 34)\n",
      "36 (36, b'arm_joint5', 0, 13, 12, 1, 0.1, 0.0, -2.1944, 1.6708, 1.5, 6.0, b'arm_link5_link', (0.0, 0.0, 1.0), (0.0, 0.0, -0.02275), (0.5, -0.5, 0.5, -0.5), 35)\n",
      "37 (37, b'arm_joint6', 0, 14, 13, 1, 0.1, 0.0, -2.71, 2.71, 1.5, 6.0, b'arm_link6_link', (0.0, 0.0, -1.0), (-0.05655, 0.0, 0.0), (0.5, 0.5, 0.5, -0.5), 36)\n",
      "38 (38, b'arm_link6_motor_joint', 4, -1, -1, 0, 0.0, 0.0, 0.0, -1.0, 0.0, 0.0, b'arm_link6_motor_link', (0.0, 0.0, 0.0), (0.01345, 0.03, -0.05), (0.5, 0.5, 0.5, -0.5), 37)\n",
      "39 (39, b'gripper_joint', 0, 15, 14, 1, 0.0, 0.0, -1.6708, 1.6708, 1.5, 6.0, b'arm_link7_link', (0.0, 1.0, 0.0), (0.01345, 0.0, 0.0), (0.5, 0.5, 0.5, -0.5), 38)\n",
      "40 (40, b'arm_gripper_left_joint', 4, -1, -1, 0, 0.0, 0.0, 0.0, -1.0, 0.0, 0.0, b'arm_gripper_left_link', (0.0, 0.0, 0.0), (0.0, 0.0, 0.00425), (0.0, 0.0, 1.0, -6.123233995736766e-17), 39)\n",
      "41 (41, b'arm_gripper_right_joint', 4, -1, -1, 0, 0.0, 0.0, 0.0, -1.0, 0.0, 0.0, b'arm_gripper_right_link', (0.0, 0.0, 0.0), (-0.02755, 0.0, 0.0), (0.5, -0.5, -0.5, -0.5), 38)\n",
      "42 (42, b'camera_rgb_joint', 4, -1, -1, 0, 0.0, 0.0, 0.0, -1.0, 0.0, 0.0, b'camera_rgb_frame', (0.0, 0.0, 0.0), (-0.09699999999999999, -0.0125, 0.287), (0.0, 0.0, 0.0, 1.0), 0)\n",
      "43 (43, b'camera_rgb_optical_joint', 4, -1, -1, 0, 0.0, 0.0, 0.0, -1.0, 0.0, 0.0, b'camera_rgb_optical_frame', (0.0, 0.0, 0.0), (0.0, 0.0, 0.0), (0.5, -0.5, 0.5, 0.5), 42)\n",
      "44 (44, b'camera_joint', 4, -1, -1, 0, 0.0, 0.0, 0.0, -1.0, 0.0, 0.0, b'camera_link', (0.0, 0.0, 0.0), (-0.031, 0.0125, -0.016), (0.0, 0.0, 0.0, 1.0), 42)\n",
      "45 (45, b'camera_depth_joint', 4, -1, -1, 0, 0.0, 0.0, 0.0, -1.0, 0.0, 0.0, b'camera_depth_frame', (0.0, 0.0, 0.0), (0.0, 0.025, 0.0), (0.0, 0.0, 0.0, 1.0), 42)\n",
      "46 (46, b'camera_depth_optical_joint', 4, -1, -1, 0, 0.0, 0.0, 0.0, -1.0, 0.0, 0.0, b'camera_depth_optical_frame', (0.0, 0.0, 0.0), (0.0, 0.0, 0.0), (0.5, -0.5, 0.5, 0.5), 45)\n"
     ]
    }
   ],
   "source": [
    "for i in range(p.getNumJoints(robotId)):\n",
    "    print(i, p.getJointInfo(robotId, i))"
   ]
  },
  {
   "cell_type": "code",
   "execution_count": 7,
   "id": "29186024-a2e6-42ac-8544-732b03a1f368",
   "metadata": {},
   "outputs": [],
   "source": [
    "arm_joint = [30, 31, 33, 35, 36, 37, 39]"
   ]
  },
  {
   "cell_type": "code",
   "execution_count": 16,
   "id": "2ee06122-848b-4a23-ab2a-b351cee61e17",
   "metadata": {},
   "outputs": [],
   "source": [
    "p.setJointMotorControl2(\n",
    "    robotId,\n",
    "    arm_joint[0],\n",
    "    controlMode=p.POSITION_CONTROL,\n",
    "    targetPosition=0\n",
    ")\n",
    "p.setJointMotorControl2(\n",
    "    robotId,\n",
    "    arm_joint[1],\n",
    "    controlMode=p.POSITION_CONTROL,\n",
    "    targetPosition=1\n",
    ")\n",
    "p.setJointMotorControl2(\n",
    "    robotId,\n",
    "    arm_joint[2],\n",
    "    controlMode=p.POSITION_CONTROL,\n",
    "    targetPosition=1\n",
    ")"
   ]
  },
  {
   "cell_type": "code",
   "execution_count": 67,
   "id": "e757d212-437b-488f-be8b-dc2d1897afb6",
   "metadata": {},
   "outputs": [],
   "source": [
    "for i in range(7):\n",
    "    p.setJointMotorControl2(\n",
    "        robotId,\n",
    "        arm_joint[i],\n",
    "        controlMode=p.POSITION_CONTROL,\n",
    "        targetPosition=0,\n",
    "        force=10\n",
    "    )"
   ]
  },
  {
   "cell_type": "code",
   "execution_count": 70,
   "id": "ee0ccc59-c7a0-4d5d-96cb-3b20d5916ee4",
   "metadata": {},
   "outputs": [
    {
     "ename": "KeyboardInterrupt",
     "evalue": "",
     "output_type": "error",
     "traceback": [
      "\u001b[1;31m---------------------------------------------------------------------------\u001b[0m",
      "\u001b[1;31mKeyboardInterrupt\u001b[0m                         Traceback (most recent call last)",
      "Cell \u001b[1;32mIn[70], line 10\u001b[0m\n\u001b[0;32m      2\u001b[0m \u001b[38;5;28;01mfor\u001b[39;00m i \u001b[38;5;129;01min\u001b[39;00m \u001b[38;5;28mrange\u001b[39m(\u001b[38;5;241m7\u001b[39m):\n\u001b[0;32m      3\u001b[0m     p\u001b[38;5;241m.\u001b[39msetJointMotorControl2(\n\u001b[0;32m      4\u001b[0m         robotId,\n\u001b[0;32m      5\u001b[0m         arm_joint[i],\n\u001b[1;32m   (...)\u001b[0m\n\u001b[0;32m      8\u001b[0m         force\u001b[38;5;241m=\u001b[39m\u001b[38;5;241m1\u001b[39m\n\u001b[0;32m      9\u001b[0m     )\n\u001b[1;32m---> 10\u001b[0m     \u001b[43mtime\u001b[49m\u001b[38;5;241;43m.\u001b[39;49m\u001b[43msleep\u001b[49m\u001b[43m(\u001b[49m\u001b[38;5;241;43m2\u001b[39;49m\u001b[43m)\u001b[49m\n\u001b[0;32m     11\u001b[0m     p\u001b[38;5;241m.\u001b[39msetJointMotorControl2(\n\u001b[0;32m     12\u001b[0m         robotId,\n\u001b[0;32m     13\u001b[0m         arm_joint[i],\n\u001b[1;32m   (...)\u001b[0m\n\u001b[0;32m     16\u001b[0m         force\u001b[38;5;241m=\u001b[39m\u001b[38;5;241m1\u001b[39m\n\u001b[0;32m     17\u001b[0m     )\n\u001b[0;32m     18\u001b[0m     time\u001b[38;5;241m.\u001b[39msleep(\u001b[38;5;241m2\u001b[39m)\n",
      "\u001b[1;31mKeyboardInterrupt\u001b[0m: "
     ]
    }
   ],
   "source": [
    "# 1個ずつ1rad→0radに動かす\n",
    "for i in range(7):\n",
    "    p.setJointMotorControl2(\n",
    "        robotId,\n",
    "        arm_joint[i],\n",
    "        controlMode=p.POSITION_CONTROL,\n",
    "        targetPosition=1,\n",
    "        force=1\n",
    "    )\n",
    "    time.sleep(2)\n",
    "    p.setJointMotorControl2(\n",
    "        robotId,\n",
    "        arm_joint[i],\n",
    "        controlMode=p.POSITION_CONTROL,\n",
    "        targetPosition=0,\n",
    "        force=1\n",
    "    )\n",
    "    time.sleep(2)"
   ]
  },
  {
   "cell_type": "code",
   "execution_count": null,
   "id": "a11986e0-caff-4eef-82d8-2a7144ca047d",
   "metadata": {},
   "outputs": [],
   "source": []
  }
 ],
 "metadata": {
  "kernelspec": {
   "display_name": "Python 3 (ipykernel)",
   "language": "python",
   "name": "python3"
  },
  "language_info": {
   "codemirror_mode": {
    "name": "ipython",
    "version": 3
   },
   "file_extension": ".py",
   "mimetype": "text/x-python",
   "name": "python",
   "nbconvert_exporter": "python",
   "pygments_lexer": "ipython3",
   "version": "3.8.10"
  }
 },
 "nbformat": 4,
 "nbformat_minor": 5
}
